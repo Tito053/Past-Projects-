{
 "cells": [
  {
   "cell_type": "markdown",
   "metadata": {},
   "source": [
    "Import libaries to assit in cleaning the data and reading the CSV file."
   ]
  },
  {
   "cell_type": "code",
   "execution_count": 158,
   "metadata": {},
   "outputs": [],
   "source": [
    "import pandas as pd\n",
    "import numpy as nd"
   ]
  },
  {
   "cell_type": "markdown",
   "metadata": {},
   "source": [
    "call and read both files and merge both CSV files to clean  both at the same time."
   ]
  },
  {
   "cell_type": "code",
   "execution_count": 159,
   "metadata": {},
   "outputs": [],
   "source": [
    "ebay_data_unclean= pd.read_csv(\"EbayPcLaptopDataUnclean.csv\")\n",
    "\n",
    "price_data= pd.read_csv('EbayPcLaptopPriceData.csv')\n",
    "\n",
    "ebay_data=pd.merge(ebay_data_unclean,price_data, on= 'Item Number', how= 'left')"
   ]
  },
  {
   "cell_type": "markdown",
   "metadata": {},
   "source": [
    "create and check a list of all coulmns in the CSV file."
   ]
  },
  {
   "cell_type": "code",
   "execution_count": 160,
   "metadata": {},
   "outputs": [
    {
     "data": {
      "text/plain": [
       "['Item Number',\n",
       " 'Brand',\n",
       " 'Rating',\n",
       " 'Ratings Count',\n",
       " 'Processor',\n",
       " 'Screen Size',\n",
       " 'Manufacturer Color',\n",
       " 'Color',\n",
       " 'Ram Size',\n",
       " 'SSD Capacity',\n",
       " 'GPU',\n",
       " 'Processor Speed',\n",
       " 'Type',\n",
       " 'Release Year',\n",
       " 'Maximum Resolution',\n",
       " 'Model',\n",
       " 'OS',\n",
       " 'Hard Drive Capacity',\n",
       " 'Country Region Of Manufacture',\n",
       " 'Storage Type',\n",
       " 'Features',\n",
       " 'Condition',\n",
       " 'Seller Note',\n",
       " 'Price']"
      ]
     },
     "execution_count": 160,
     "metadata": {},
     "output_type": "execute_result"
    }
   ],
   "source": [
    "list(ebay_data.columns)"
   ]
  },
  {
   "cell_type": "markdown",
   "metadata": {},
   "source": [
    "Check to see what data type each columns is to find the best way to approach the cleaning."
   ]
  },
  {
   "cell_type": "code",
   "execution_count": 161,
   "metadata": {},
   "outputs": [
    {
     "data": {
      "text/plain": [
       "Item Number                        int64\n",
       "Brand                             object\n",
       "Rating                            object\n",
       "Ratings Count                    float64\n",
       "Processor                         object\n",
       "Screen Size                       object\n",
       "Manufacturer Color                object\n",
       "Color                             object\n",
       "Ram Size                          object\n",
       "SSD Capacity                      object\n",
       "GPU                               object\n",
       "Processor Speed                   object\n",
       "Type                              object\n",
       "Release Year                      object\n",
       "Maximum Resolution                object\n",
       "Model                             object\n",
       "OS                                object\n",
       "Hard Drive Capacity               object\n",
       "Country Region Of Manufacture     object\n",
       "Storage Type                      object\n",
       "Features                          object\n",
       "Condition                         object\n",
       "Seller Note                       object\n",
       "Price                             object\n",
       "dtype: object"
      ]
     },
     "execution_count": 161,
     "metadata": {},
     "output_type": "execute_result"
    }
   ],
   "source": [
    "ebay_data.dtypes"
   ]
  },
  {
   "cell_type": "markdown",
   "metadata": {},
   "source": [
    "Check the amount of missing data in the CSV file, and than wrote a code to give me a percentage of how much was missing."
   ]
  },
  {
   "cell_type": "code",
   "execution_count": 162,
   "metadata": {},
   "outputs": [
    {
     "data": {
      "text/plain": [
       "Item Number                       0.000000\n",
       "Brand                            37.704439\n",
       "Rating                           95.604556\n",
       "Ratings Count                    95.604556\n",
       "Processor                        40.522780\n",
       "Screen Size                      39.705023\n",
       "Manufacturer Color               97.079439\n",
       "Color                            66.486565\n",
       "Ram Size                         66.486565\n",
       "SSD Capacity                     56.454439\n",
       "GPU                              53.008178\n",
       "Processor Speed                  58.367407\n",
       "Type                             49.080023\n",
       "Release Year                     87.324766\n",
       "Maximum Resolution               61.404790\n",
       "Model                            50.949182\n",
       "OS                               52.701519\n",
       "Hard Drive Capacity              63.960280\n",
       "Country Region Of Manufacture    96.948014\n",
       "Storage Type                     62.602220\n",
       "Features                         60.995911\n",
       "Condition                         9.433411\n",
       "Seller Note                      76.985981\n",
       "Price                             0.000000\n",
       "dtype: float64"
      ]
     },
     "execution_count": 162,
     "metadata": {},
     "output_type": "execute_result"
    }
   ],
   "source": [
    "ebay_data.isna().sum() / len(ebay_data) * 100"
   ]
  },
  {
   "cell_type": "markdown",
   "metadata": {},
   "source": [
    "Created a work enviroment, allowing to change and edit in the envioremnt to not comprise any of the orginal data."
   ]
  },
  {
   "cell_type": "code",
   "execution_count": 163,
   "metadata": {},
   "outputs": [],
   "source": [
    "ebay_data_sample = ebay_data"
   ]
  },
  {
   "cell_type": "markdown",
   "metadata": {},
   "source": [
    "Dropped all the Columns thats were either missing to much data to clean, and or did not hold any value in cleaning or a possible sale in Ebay\n",
    "    1.Removed 'Rating' because it was missing over 95% of date in its columns making it near impossible to clean with a realiable infomration.\n",
    "    2.Removed 'Rating Count' for the same reason as to 'Rating' with the added caviot of by removing ' Rating' it made 'Rating Count' useless information.\n",
    "    3.Manufacturer Color was missing over 95% of its dating making it near useless to clean and or salavage.\n",
    "    4.Although a little more than half of the Data was missing, I felt as though the information was not relevant to buyers information, as this is a second hand bidding website and not the main stores shop.\n",
    "    5.Over 85% of the data was missing, and the realse year I didnt see as important as the computer parts can change.\n",
    "    6.Sellers note was missing a little over 75% making cleaning it more time consuming that benfitical\n",
    "    7.Country of Orgins nearly was missing 100% of its data \n",
    "    8.Features was also missing a large amoount of data and would have been more time consuming than benifical \n",
    "    "
   ]
  },
  {
   "cell_type": "code",
   "execution_count": 164,
   "metadata": {},
   "outputs": [
    {
     "data": {
      "text/html": [
       "<div>\n",
       "<style scoped>\n",
       "    .dataframe tbody tr th:only-of-type {\n",
       "        vertical-align: middle;\n",
       "    }\n",
       "\n",
       "    .dataframe tbody tr th {\n",
       "        vertical-align: top;\n",
       "    }\n",
       "\n",
       "    .dataframe thead th {\n",
       "        text-align: right;\n",
       "    }\n",
       "</style>\n",
       "<table border=\"1\" class=\"dataframe\">\n",
       "  <thead>\n",
       "    <tr style=\"text-align: right;\">\n",
       "      <th></th>\n",
       "      <th>Item Number</th>\n",
       "      <th>Brand</th>\n",
       "      <th>Processor</th>\n",
       "      <th>Screen Size</th>\n",
       "      <th>Ram Size</th>\n",
       "      <th>SSD Capacity</th>\n",
       "      <th>GPU</th>\n",
       "      <th>Processor Speed</th>\n",
       "      <th>Type</th>\n",
       "      <th>Maximum Resolution</th>\n",
       "      <th>Model</th>\n",
       "      <th>OS</th>\n",
       "      <th>Hard Drive Capacity</th>\n",
       "      <th>Storage Type</th>\n",
       "      <th>Condition</th>\n",
       "      <th>Price</th>\n",
       "    </tr>\n",
       "  </thead>\n",
       "  <tbody>\n",
       "    <tr>\n",
       "      <th>0</th>\n",
       "      <td>85264981001</td>\n",
       "      <td>CHUWI</td>\n",
       "      <td>Quad Core</td>\n",
       "      <td>14 in</td>\n",
       "      <td>8 GB</td>\n",
       "      <td>1 Used,  1 support Max 1TB M.2 Extend</td>\n",
       "      <td>Intel Iris Plus Graphics 655</td>\n",
       "      <td>Max up to 3.80 GHz</td>\n",
       "      <td>Notebook/Laptop</td>\n",
       "      <td>2160 x 1440</td>\n",
       "      <td>CoreBook X</td>\n",
       "      <td>Windows 11 Home</td>\n",
       "      <td>512 GB SSD</td>\n",
       "      <td>SSD (Solid State Drive)</td>\n",
       "      <td>New: A brand-new, unused, unopened, undamaged ...</td>\n",
       "      <td>$303.68</td>\n",
       "    </tr>\n",
       "    <tr>\n",
       "      <th>1</th>\n",
       "      <td>85264981002</td>\n",
       "      <td>Dell</td>\n",
       "      <td>Intel Core i7 8th Gen.</td>\n",
       "      <td>14 in</td>\n",
       "      <td>NaN</td>\n",
       "      <td>NaN</td>\n",
       "      <td>Intel UHD Graphics 620</td>\n",
       "      <td>4.20 GHz (1.90 GHz Base Frequency)</td>\n",
       "      <td>Notebook/Laptop</td>\n",
       "      <td>1920 x 1080</td>\n",
       "      <td>Dell Latitude 7490</td>\n",
       "      <td>Windows 11 Pro</td>\n",
       "      <td>2 TB</td>\n",
       "      <td>SSD (Solid State Drive)</td>\n",
       "      <td>Very Good - RefurbishedThe item shows minimal ...</td>\n",
       "      <td>$399.99 to $634.99</td>\n",
       "    </tr>\n",
       "    <tr>\n",
       "      <th>2</th>\n",
       "      <td>85264981003</td>\n",
       "      <td>Dell</td>\n",
       "      <td>Intel Core i5-6300U</td>\n",
       "      <td>14 in</td>\n",
       "      <td>16 GB</td>\n",
       "      <td>500 GB</td>\n",
       "      <td>Intel HD Graphics</td>\n",
       "      <td>2.40 GHz</td>\n",
       "      <td>Notebook/Laptop</td>\n",
       "      <td>1920 x 1080</td>\n",
       "      <td>Dell Latitude E5470</td>\n",
       "      <td>Windows 10 Pro</td>\n",
       "      <td>500 GB</td>\n",
       "      <td>SSD (Solid State Drive)</td>\n",
       "      <td>UsedAn item that has been used previously. The...</td>\n",
       "      <td>$175.00</td>\n",
       "    </tr>\n",
       "    <tr>\n",
       "      <th>3</th>\n",
       "      <td>85264981004</td>\n",
       "      <td>HP</td>\n",
       "      <td>Intel Celeron N</td>\n",
       "      <td>11.6 in</td>\n",
       "      <td>4 GB</td>\n",
       "      <td>NaN</td>\n",
       "      <td>Intel HD Graphics 500</td>\n",
       "      <td>2.40 GHz</td>\n",
       "      <td>Notebook/Laptop</td>\n",
       "      <td>1366 x 768</td>\n",
       "      <td>HP Chromebook 11 G6</td>\n",
       "      <td>Chrome OS</td>\n",
       "      <td>16 GB</td>\n",
       "      <td>eMMC</td>\n",
       "      <td>Good - RefurbishedThe item shows moderate wear...</td>\n",
       "      <td>$84.99</td>\n",
       "    </tr>\n",
       "    <tr>\n",
       "      <th>4</th>\n",
       "      <td>85264981005</td>\n",
       "      <td>Dell</td>\n",
       "      <td>Intel Core i5 6th Gen.</td>\n",
       "      <td>Minimum 12.5\"</td>\n",
       "      <td>8 GB</td>\n",
       "      <td>256 GB</td>\n",
       "      <td>Integrated</td>\n",
       "      <td>Minimum 1.40 GHz</td>\n",
       "      <td>Notebook/Laptop</td>\n",
       "      <td>1366 x 768</td>\n",
       "      <td>Various Models</td>\n",
       "      <td>Windows 10</td>\n",
       "      <td>NO HDD</td>\n",
       "      <td>SSD (Solid State Drive)</td>\n",
       "      <td>Good - RefurbishedThe item shows moderate wear...</td>\n",
       "      <td>$101.22</td>\n",
       "    </tr>\n",
       "    <tr>\n",
       "      <th>...</th>\n",
       "      <td>...</td>\n",
       "      <td>...</td>\n",
       "      <td>...</td>\n",
       "      <td>...</td>\n",
       "      <td>...</td>\n",
       "      <td>...</td>\n",
       "      <td>...</td>\n",
       "      <td>...</td>\n",
       "      <td>...</td>\n",
       "      <td>...</td>\n",
       "      <td>...</td>\n",
       "      <td>...</td>\n",
       "      <td>...</td>\n",
       "      <td>...</td>\n",
       "      <td>...</td>\n",
       "      <td>...</td>\n",
       "    </tr>\n",
       "    <tr>\n",
       "      <th>6843</th>\n",
       "      <td>85264987616</td>\n",
       "      <td>NaN</td>\n",
       "      <td>NaN</td>\n",
       "      <td>NaN</td>\n",
       "      <td>NaN</td>\n",
       "      <td>NaN</td>\n",
       "      <td>NaN</td>\n",
       "      <td>NaN</td>\n",
       "      <td>NaN</td>\n",
       "      <td>NaN</td>\n",
       "      <td>NaN</td>\n",
       "      <td>NaN</td>\n",
       "      <td>NaN</td>\n",
       "      <td>NaN</td>\n",
       "      <td>New: A brand-new, unused, unopened, undamaged ...</td>\n",
       "      <td>$108.06</td>\n",
       "    </tr>\n",
       "    <tr>\n",
       "      <th>6844</th>\n",
       "      <td>85264987617</td>\n",
       "      <td>NaN</td>\n",
       "      <td>NaN</td>\n",
       "      <td>NaN</td>\n",
       "      <td>NaN</td>\n",
       "      <td>NaN</td>\n",
       "      <td>Gráficos Intel UHD 620</td>\n",
       "      <td>NaN</td>\n",
       "      <td>NaN</td>\n",
       "      <td>NaN</td>\n",
       "      <td>NaN</td>\n",
       "      <td>NaN</td>\n",
       "      <td>NaN</td>\n",
       "      <td>NaN</td>\n",
       "      <td>Seller refurbished: The item has been restored...</td>\n",
       "      <td>$2,108.99</td>\n",
       "    </tr>\n",
       "    <tr>\n",
       "      <th>6845</th>\n",
       "      <td>85264987618</td>\n",
       "      <td>NaN</td>\n",
       "      <td>NaN</td>\n",
       "      <td>NaN</td>\n",
       "      <td>NaN</td>\n",
       "      <td>NaN</td>\n",
       "      <td>NaN</td>\n",
       "      <td>NaN</td>\n",
       "      <td>NaN</td>\n",
       "      <td>NaN</td>\n",
       "      <td>NaN</td>\n",
       "      <td>NaN</td>\n",
       "      <td>NaN</td>\n",
       "      <td>NaN</td>\n",
       "      <td>New: A brand-new, unused, unopened, undamaged ...</td>\n",
       "      <td>$105.86</td>\n",
       "    </tr>\n",
       "    <tr>\n",
       "      <th>6846</th>\n",
       "      <td>85264987619</td>\n",
       "      <td>Lenovo</td>\n",
       "      <td>NaN</td>\n",
       "      <td>NaN</td>\n",
       "      <td>NaN</td>\n",
       "      <td>NaN</td>\n",
       "      <td>NaN</td>\n",
       "      <td>NaN</td>\n",
       "      <td>Notebook/Laptop</td>\n",
       "      <td>NaN</td>\n",
       "      <td>NaN</td>\n",
       "      <td>NaN</td>\n",
       "      <td>NaN</td>\n",
       "      <td>NaN</td>\n",
       "      <td>NaN</td>\n",
       "      <td>$567.74</td>\n",
       "    </tr>\n",
       "    <tr>\n",
       "      <th>6847</th>\n",
       "      <td>85264987620</td>\n",
       "      <td>NaN</td>\n",
       "      <td>NaN</td>\n",
       "      <td>NaN</td>\n",
       "      <td>NaN</td>\n",
       "      <td>NaN</td>\n",
       "      <td>NaN</td>\n",
       "      <td>NaN</td>\n",
       "      <td>NaN</td>\n",
       "      <td>NaN</td>\n",
       "      <td>NaN</td>\n",
       "      <td>NaN</td>\n",
       "      <td>NaN</td>\n",
       "      <td>NaN</td>\n",
       "      <td>New: A brand-new, unused, unopened, undamaged ...</td>\n",
       "      <td>$89.28</td>\n",
       "    </tr>\n",
       "  </tbody>\n",
       "</table>\n",
       "<p>6848 rows × 16 columns</p>\n",
       "</div>"
      ],
      "text/plain": [
       "      Item Number   Brand               Processor    Screen Size Ram Size  \\\n",
       "0     85264981001   CHUWI               Quad Core          14 in     8 GB   \n",
       "1     85264981002    Dell  Intel Core i7 8th Gen.          14 in      NaN   \n",
       "2     85264981003    Dell     Intel Core i5-6300U          14 in    16 GB   \n",
       "3     85264981004      HP         Intel Celeron N        11.6 in     4 GB   \n",
       "4     85264981005    Dell  Intel Core i5 6th Gen.  Minimum 12.5\"     8 GB   \n",
       "...           ...     ...                     ...            ...      ...   \n",
       "6843  85264987616     NaN                     NaN            NaN      NaN   \n",
       "6844  85264987617     NaN                     NaN            NaN      NaN   \n",
       "6845  85264987618     NaN                     NaN            NaN      NaN   \n",
       "6846  85264987619  Lenovo                     NaN            NaN      NaN   \n",
       "6847  85264987620     NaN                     NaN            NaN      NaN   \n",
       "\n",
       "                               SSD Capacity                           GPU  \\\n",
       "0     1 Used,  1 support Max 1TB M.2 Extend  Intel Iris Plus Graphics 655   \n",
       "1                                       NaN        Intel UHD Graphics 620   \n",
       "2                                    500 GB             Intel HD Graphics   \n",
       "3                                       NaN         Intel HD Graphics 500   \n",
       "4                                    256 GB                    Integrated   \n",
       "...                                     ...                           ...   \n",
       "6843                                    NaN                           NaN   \n",
       "6844                                    NaN        Gráficos Intel UHD 620   \n",
       "6845                                    NaN                           NaN   \n",
       "6846                                    NaN                           NaN   \n",
       "6847                                    NaN                           NaN   \n",
       "\n",
       "                         Processor Speed             Type Maximum Resolution  \\\n",
       "0                     Max up to 3.80 GHz  Notebook/Laptop        2160 x 1440   \n",
       "1     4.20 GHz (1.90 GHz Base Frequency)  Notebook/Laptop        1920 x 1080   \n",
       "2                               2.40 GHz  Notebook/Laptop        1920 x 1080   \n",
       "3                               2.40 GHz  Notebook/Laptop         1366 x 768   \n",
       "4                       Minimum 1.40 GHz  Notebook/Laptop         1366 x 768   \n",
       "...                                  ...              ...                ...   \n",
       "6843                                 NaN              NaN                NaN   \n",
       "6844                                 NaN              NaN                NaN   \n",
       "6845                                 NaN              NaN                NaN   \n",
       "6846                                 NaN  Notebook/Laptop                NaN   \n",
       "6847                                 NaN              NaN                NaN   \n",
       "\n",
       "                    Model               OS Hard Drive Capacity  \\\n",
       "0              CoreBook X  Windows 11 Home          512 GB SSD   \n",
       "1      Dell Latitude 7490   Windows 11 Pro                2 TB   \n",
       "2     Dell Latitude E5470   Windows 10 Pro              500 GB   \n",
       "3     HP Chromebook 11 G6        Chrome OS               16 GB   \n",
       "4          Various Models       Windows 10              NO HDD   \n",
       "...                   ...              ...                 ...   \n",
       "6843                  NaN              NaN                 NaN   \n",
       "6844                  NaN              NaN                 NaN   \n",
       "6845                  NaN              NaN                 NaN   \n",
       "6846                  NaN              NaN                 NaN   \n",
       "6847                  NaN              NaN                 NaN   \n",
       "\n",
       "                 Storage Type  \\\n",
       "0     SSD (Solid State Drive)   \n",
       "1     SSD (Solid State Drive)   \n",
       "2     SSD (Solid State Drive)   \n",
       "3                        eMMC   \n",
       "4     SSD (Solid State Drive)   \n",
       "...                       ...   \n",
       "6843                      NaN   \n",
       "6844                      NaN   \n",
       "6845                      NaN   \n",
       "6846                      NaN   \n",
       "6847                      NaN   \n",
       "\n",
       "                                              Condition               Price  \n",
       "0     New: A brand-new, unused, unopened, undamaged ...            $303.68   \n",
       "1     Very Good - RefurbishedThe item shows minimal ...  $399.99 to $634.99  \n",
       "2     UsedAn item that has been used previously. The...            $175.00   \n",
       "3     Good - RefurbishedThe item shows moderate wear...             $84.99   \n",
       "4     Good - RefurbishedThe item shows moderate wear...            $101.22   \n",
       "...                                                 ...                 ...  \n",
       "6843  New: A brand-new, unused, unopened, undamaged ...            $108.06   \n",
       "6844  Seller refurbished: The item has been restored...          $2,108.99   \n",
       "6845  New: A brand-new, unused, unopened, undamaged ...            $105.86   \n",
       "6846                                                NaN            $567.74   \n",
       "6847  New: A brand-new, unused, unopened, undamaged ...             $89.28   \n",
       "\n",
       "[6848 rows x 16 columns]"
      ]
     },
     "execution_count": 164,
     "metadata": {},
     "output_type": "execute_result"
    }
   ],
   "source": [
    "ebay_data_sample = ebay_data_sample.drop(columns='Rating')\n",
    "ebay_data_sample = ebay_data_sample.drop(columns='Ratings Count')\n",
    "ebay_data_sample = ebay_data_sample.drop(columns='Manufacturer Color')\n",
    "ebay_data_sample = ebay_data_sample.drop(columns='Color')\n",
    "ebay_data_sample = ebay_data_sample.drop(columns='Release Year')\n",
    "ebay_data_sample = ebay_data_sample.drop(columns='Seller Note')\n",
    "ebay_data_sample = ebay_data_sample.drop(columns='Country Region Of Manufacture')\n",
    "ebay_data_sample = ebay_data_sample.drop(columns='Features')\n",
    "\n",
    "ebay_data_sample"
   ]
  },
  {
   "cell_type": "markdown",
   "metadata": {},
   "source": [
    "Dropped all the data that was not present in any of the coloums \n"
   ]
  },
  {
   "cell_type": "code",
   "execution_count": 165,
   "metadata": {},
   "outputs": [
    {
     "data": {
      "text/html": [
       "<div>\n",
       "<style scoped>\n",
       "    .dataframe tbody tr th:only-of-type {\n",
       "        vertical-align: middle;\n",
       "    }\n",
       "\n",
       "    .dataframe tbody tr th {\n",
       "        vertical-align: top;\n",
       "    }\n",
       "\n",
       "    .dataframe thead th {\n",
       "        text-align: right;\n",
       "    }\n",
       "</style>\n",
       "<table border=\"1\" class=\"dataframe\">\n",
       "  <thead>\n",
       "    <tr style=\"text-align: right;\">\n",
       "      <th></th>\n",
       "      <th>Item Number</th>\n",
       "      <th>Brand</th>\n",
       "      <th>Processor</th>\n",
       "      <th>Screen Size</th>\n",
       "      <th>Ram Size</th>\n",
       "      <th>SSD Capacity</th>\n",
       "      <th>GPU</th>\n",
       "      <th>Processor Speed</th>\n",
       "      <th>Type</th>\n",
       "      <th>Maximum Resolution</th>\n",
       "      <th>Model</th>\n",
       "      <th>OS</th>\n",
       "      <th>Hard Drive Capacity</th>\n",
       "      <th>Storage Type</th>\n",
       "      <th>Condition</th>\n",
       "      <th>Price</th>\n",
       "    </tr>\n",
       "  </thead>\n",
       "  <tbody>\n",
       "    <tr>\n",
       "      <th>0</th>\n",
       "      <td>85264981001</td>\n",
       "      <td>CHUWI</td>\n",
       "      <td>Quad Core</td>\n",
       "      <td>14 in</td>\n",
       "      <td>8 GB</td>\n",
       "      <td>1 Used,  1 support Max 1TB M.2 Extend</td>\n",
       "      <td>Intel Iris Plus Graphics 655</td>\n",
       "      <td>Max up to 3.80 GHz</td>\n",
       "      <td>Notebook/Laptop</td>\n",
       "      <td>2160 x 1440</td>\n",
       "      <td>CoreBook X</td>\n",
       "      <td>Windows 11 Home</td>\n",
       "      <td>512 GB SSD</td>\n",
       "      <td>SSD (Solid State Drive)</td>\n",
       "      <td>New: A brand-new, unused, unopened, undamaged ...</td>\n",
       "      <td>$303.68</td>\n",
       "    </tr>\n",
       "    <tr>\n",
       "      <th>2</th>\n",
       "      <td>85264981003</td>\n",
       "      <td>Dell</td>\n",
       "      <td>Intel Core i5-6300U</td>\n",
       "      <td>14 in</td>\n",
       "      <td>16 GB</td>\n",
       "      <td>500 GB</td>\n",
       "      <td>Intel HD Graphics</td>\n",
       "      <td>2.40 GHz</td>\n",
       "      <td>Notebook/Laptop</td>\n",
       "      <td>1920 x 1080</td>\n",
       "      <td>Dell Latitude E5470</td>\n",
       "      <td>Windows 10 Pro</td>\n",
       "      <td>500 GB</td>\n",
       "      <td>SSD (Solid State Drive)</td>\n",
       "      <td>UsedAn item that has been used previously. The...</td>\n",
       "      <td>$175.00</td>\n",
       "    </tr>\n",
       "    <tr>\n",
       "      <th>4</th>\n",
       "      <td>85264981005</td>\n",
       "      <td>Dell</td>\n",
       "      <td>Intel Core i5 6th Gen.</td>\n",
       "      <td>Minimum 12.5\"</td>\n",
       "      <td>8 GB</td>\n",
       "      <td>256 GB</td>\n",
       "      <td>Integrated</td>\n",
       "      <td>Minimum 1.40 GHz</td>\n",
       "      <td>Notebook/Laptop</td>\n",
       "      <td>1366 x 768</td>\n",
       "      <td>Various Models</td>\n",
       "      <td>Windows 10</td>\n",
       "      <td>NO HDD</td>\n",
       "      <td>SSD (Solid State Drive)</td>\n",
       "      <td>Good - RefurbishedThe item shows moderate wear...</td>\n",
       "      <td>$101.22</td>\n",
       "    </tr>\n",
       "    <tr>\n",
       "      <th>13</th>\n",
       "      <td>85264981014</td>\n",
       "      <td>Chuwi</td>\n",
       "      <td>Intel Celeron Processor N4100</td>\n",
       "      <td>14.1 in</td>\n",
       "      <td>8 GB</td>\n",
       "      <td>256 GB</td>\n",
       "      <td>Intel UHD Graphics 600, 650MHz</td>\n",
       "      <td>2.80 GHz</td>\n",
       "      <td>Notebook/Laptop</td>\n",
       "      <td>1920 x 1080</td>\n",
       "      <td>CHUWI Lapbook Pro</td>\n",
       "      <td>Windows 11 Home</td>\n",
       "      <td>256 GB</td>\n",
       "      <td>SSD (Solid State Drive)</td>\n",
       "      <td>New: A brand-new, unused, unopened, undamaged ...</td>\n",
       "      <td>$151.99</td>\n",
       "    </tr>\n",
       "    <tr>\n",
       "      <th>14</th>\n",
       "      <td>85264981015</td>\n",
       "      <td>Chuwi</td>\n",
       "      <td>Intel Core i5-8259U</td>\n",
       "      <td>14 in</td>\n",
       "      <td>8 GB</td>\n",
       "      <td>512 GB</td>\n",
       "      <td>Intel Iris Plus Graphics 655</td>\n",
       "      <td>3.80 GHz</td>\n",
       "      <td>Notebook/Laptop</td>\n",
       "      <td>2160 x 1440</td>\n",
       "      <td>CHUWI CoreBook X</td>\n",
       "      <td>Windows 10</td>\n",
       "      <td>512 GB</td>\n",
       "      <td>HDD + SSD</td>\n",
       "      <td>New: A brand-new, unused, unopened, undamaged ...</td>\n",
       "      <td>$243.99</td>\n",
       "    </tr>\n",
       "    <tr>\n",
       "      <th>...</th>\n",
       "      <td>...</td>\n",
       "      <td>...</td>\n",
       "      <td>...</td>\n",
       "      <td>...</td>\n",
       "      <td>...</td>\n",
       "      <td>...</td>\n",
       "      <td>...</td>\n",
       "      <td>...</td>\n",
       "      <td>...</td>\n",
       "      <td>...</td>\n",
       "      <td>...</td>\n",
       "      <td>...</td>\n",
       "      <td>...</td>\n",
       "      <td>...</td>\n",
       "      <td>...</td>\n",
       "      <td>...</td>\n",
       "    </tr>\n",
       "    <tr>\n",
       "      <th>6345</th>\n",
       "      <td>85264987136</td>\n",
       "      <td>Lenovo</td>\n",
       "      <td>AMD Ryzen 5</td>\n",
       "      <td>14 in</td>\n",
       "      <td>16 GB</td>\n",
       "      <td>256 GB</td>\n",
       "      <td>AMD Radeon Graphics</td>\n",
       "      <td>2.30 GHz</td>\n",
       "      <td>Notebook/Laptop</td>\n",
       "      <td>1920 x 1080</td>\n",
       "      <td>Lenovo ThinkPad T14</td>\n",
       "      <td>Windows 10 Pro</td>\n",
       "      <td>256 GB</td>\n",
       "      <td>SSD (Solid State Drive)</td>\n",
       "      <td>New: A brand-new, unused, unopened, undamaged ...</td>\n",
       "      <td>$499.99</td>\n",
       "    </tr>\n",
       "    <tr>\n",
       "      <th>6348</th>\n",
       "      <td>85264987139</td>\n",
       "      <td>Lenovo</td>\n",
       "      <td>Intel Core i5-1135G7</td>\n",
       "      <td>15.6 in</td>\n",
       "      <td>20 GB</td>\n",
       "      <td>1 TB</td>\n",
       "      <td>Intel Iris Xe Graphics</td>\n",
       "      <td>Up to 4.20GHz</td>\n",
       "      <td>Notebook/Laptop</td>\n",
       "      <td>1920 x 1080</td>\n",
       "      <td>Lenovo Ideapad 3i</td>\n",
       "      <td>Windows 11 Home</td>\n",
       "      <td>1 TB</td>\n",
       "      <td>SSD (Solid State Drive)</td>\n",
       "      <td>New: A brand-new, unused, unopened, undamaged ...</td>\n",
       "      <td>$599.00</td>\n",
       "    </tr>\n",
       "    <tr>\n",
       "      <th>6378</th>\n",
       "      <td>85264987169</td>\n",
       "      <td>Intel</td>\n",
       "      <td>INTEL CORE I5</td>\n",
       "      <td>12.5-15.6</td>\n",
       "      <td>16 GB</td>\n",
       "      <td>120 GB - 500 GB</td>\n",
       "      <td>Intel HD Graphics</td>\n",
       "      <td>Various</td>\n",
       "      <td>Notebook/Laptop</td>\n",
       "      <td>ANY</td>\n",
       "      <td>Any</td>\n",
       "      <td>Ubuntu</td>\n",
       "      <td>250 GB- 1 TB</td>\n",
       "      <td>HDD / SSD</td>\n",
       "      <td>Good - RefurbishedThe item shows moderate wear...</td>\n",
       "      <td>$151.89 to $278.47</td>\n",
       "    </tr>\n",
       "    <tr>\n",
       "      <th>6393</th>\n",
       "      <td>85264987184</td>\n",
       "      <td>HP</td>\n",
       "      <td>Intel Core i5 11th Gen.</td>\n",
       "      <td>15.6 in</td>\n",
       "      <td>8 GB</td>\n",
       "      <td>256 GB</td>\n",
       "      <td>Intel Iris Xe Graphics</td>\n",
       "      <td>2.40 GHz</td>\n",
       "      <td>Notebook/Laptop</td>\n",
       "      <td>1920 x 1080</td>\n",
       "      <td>15-dy2795wm</td>\n",
       "      <td>‎Windows 11 Home</td>\n",
       "      <td>256 GB</td>\n",
       "      <td>SSD (Solid State Drive)</td>\n",
       "      <td>New: A brand-new, unused, unopened, undamaged ...</td>\n",
       "      <td>$389.95</td>\n",
       "    </tr>\n",
       "    <tr>\n",
       "      <th>6679</th>\n",
       "      <td>85264987452</td>\n",
       "      <td>ASUS</td>\n",
       "      <td>Intel Celeron N</td>\n",
       "      <td>11.6 in</td>\n",
       "      <td>4 GB</td>\n",
       "      <td>64 GB</td>\n",
       "      <td>Intel UHD Graphics 600</td>\n",
       "      <td>1.1 GHz</td>\n",
       "      <td>Notebook/Laptop</td>\n",
       "      <td>1366 x 768</td>\n",
       "      <td>ASUS E210</td>\n",
       "      <td>Windows 11 Home</td>\n",
       "      <td>64 GB</td>\n",
       "      <td>eMMC</td>\n",
       "      <td>UsedAn item that has been used previously. The...</td>\n",
       "      <td>$101.36</td>\n",
       "    </tr>\n",
       "  </tbody>\n",
       "</table>\n",
       "<p>525 rows × 16 columns</p>\n",
       "</div>"
      ],
      "text/plain": [
       "      Item Number   Brand                      Processor    Screen Size  \\\n",
       "0     85264981001   CHUWI                      Quad Core          14 in   \n",
       "2     85264981003    Dell            Intel Core i5-6300U          14 in   \n",
       "4     85264981005    Dell         Intel Core i5 6th Gen.  Minimum 12.5\"   \n",
       "13    85264981014   Chuwi  Intel Celeron Processor N4100        14.1 in   \n",
       "14    85264981015   Chuwi            Intel Core i5-8259U          14 in   \n",
       "...           ...     ...                            ...            ...   \n",
       "6345  85264987136  Lenovo                    AMD Ryzen 5          14 in   \n",
       "6348  85264987139  Lenovo           Intel Core i5-1135G7        15.6 in   \n",
       "6378  85264987169   Intel                  INTEL CORE I5      12.5-15.6   \n",
       "6393  85264987184      HP        Intel Core i5 11th Gen.        15.6 in   \n",
       "6679  85264987452    ASUS                Intel Celeron N        11.6 in   \n",
       "\n",
       "     Ram Size                           SSD Capacity  \\\n",
       "0        8 GB  1 Used,  1 support Max 1TB M.2 Extend   \n",
       "2       16 GB                                 500 GB   \n",
       "4        8 GB                                 256 GB   \n",
       "13       8 GB                                 256 GB   \n",
       "14       8 GB                                 512 GB   \n",
       "...       ...                                    ...   \n",
       "6345    16 GB                                 256 GB   \n",
       "6348    20 GB                                   1 TB   \n",
       "6378    16 GB                        120 GB - 500 GB   \n",
       "6393     8 GB                                 256 GB   \n",
       "6679     4 GB                                  64 GB   \n",
       "\n",
       "                                 GPU     Processor Speed             Type  \\\n",
       "0       Intel Iris Plus Graphics 655  Max up to 3.80 GHz  Notebook/Laptop   \n",
       "2                  Intel HD Graphics            2.40 GHz  Notebook/Laptop   \n",
       "4                         Integrated    Minimum 1.40 GHz  Notebook/Laptop   \n",
       "13    Intel UHD Graphics 600, 650MHz            2.80 GHz  Notebook/Laptop   \n",
       "14      Intel Iris Plus Graphics 655            3.80 GHz  Notebook/Laptop   \n",
       "...                              ...                 ...              ...   \n",
       "6345             AMD Radeon Graphics            2.30 GHz  Notebook/Laptop   \n",
       "6348          Intel Iris Xe Graphics       Up to 4.20GHz  Notebook/Laptop   \n",
       "6378               Intel HD Graphics             Various  Notebook/Laptop   \n",
       "6393          Intel Iris Xe Graphics            2.40 GHz  Notebook/Laptop   \n",
       "6679          Intel UHD Graphics 600             1.1 GHz  Notebook/Laptop   \n",
       "\n",
       "     Maximum Resolution                Model                OS  \\\n",
       "0           2160 x 1440           CoreBook X   Windows 11 Home   \n",
       "2           1920 x 1080  Dell Latitude E5470    Windows 10 Pro   \n",
       "4            1366 x 768       Various Models        Windows 10   \n",
       "13          1920 x 1080    CHUWI Lapbook Pro   Windows 11 Home   \n",
       "14          2160 x 1440     CHUWI CoreBook X        Windows 10   \n",
       "...                 ...                  ...               ...   \n",
       "6345        1920 x 1080  Lenovo ThinkPad T14    Windows 10 Pro   \n",
       "6348        1920 x 1080    Lenovo Ideapad 3i   Windows 11 Home   \n",
       "6378                ANY                  Any            Ubuntu   \n",
       "6393        1920 x 1080          15-dy2795wm  ‎Windows 11 Home   \n",
       "6679         1366 x 768            ASUS E210   Windows 11 Home   \n",
       "\n",
       "     Hard Drive Capacity             Storage Type  \\\n",
       "0             512 GB SSD  SSD (Solid State Drive)   \n",
       "2                 500 GB  SSD (Solid State Drive)   \n",
       "4                 NO HDD  SSD (Solid State Drive)   \n",
       "13                256 GB  SSD (Solid State Drive)   \n",
       "14                512 GB                HDD + SSD   \n",
       "...                  ...                      ...   \n",
       "6345              256 GB  SSD (Solid State Drive)   \n",
       "6348                1 TB  SSD (Solid State Drive)   \n",
       "6378        250 GB- 1 TB                HDD / SSD   \n",
       "6393              256 GB  SSD (Solid State Drive)   \n",
       "6679               64 GB                     eMMC   \n",
       "\n",
       "                                              Condition               Price  \n",
       "0     New: A brand-new, unused, unopened, undamaged ...            $303.68   \n",
       "2     UsedAn item that has been used previously. The...            $175.00   \n",
       "4     Good - RefurbishedThe item shows moderate wear...            $101.22   \n",
       "13    New: A brand-new, unused, unopened, undamaged ...            $151.99   \n",
       "14    New: A brand-new, unused, unopened, undamaged ...            $243.99   \n",
       "...                                                 ...                 ...  \n",
       "6345  New: A brand-new, unused, unopened, undamaged ...            $499.99   \n",
       "6348  New: A brand-new, unused, unopened, undamaged ...            $599.00   \n",
       "6378  Good - RefurbishedThe item shows moderate wear...  $151.89 to $278.47  \n",
       "6393  New: A brand-new, unused, unopened, undamaged ...            $389.95   \n",
       "6679  UsedAn item that has been used previously. The...            $101.36   \n",
       "\n",
       "[525 rows x 16 columns]"
      ]
     },
     "execution_count": 165,
     "metadata": {},
     "output_type": "execute_result"
    }
   ],
   "source": [
    "ebay_data_sample=ebay_data_sample.dropna()\n",
    "ebay_data_sample.sort_index()"
   ]
  },
  {
   "cell_type": "markdown",
   "metadata": {},
   "source": [
    "Checked to see how much data was missing "
   ]
  },
  {
   "cell_type": "code",
   "execution_count": 166,
   "metadata": {},
   "outputs": [
    {
     "data": {
      "text/plain": [
       "Item Number            0.0\n",
       "Brand                  0.0\n",
       "Processor              0.0\n",
       "Screen Size            0.0\n",
       "Ram Size               0.0\n",
       "SSD Capacity           0.0\n",
       "GPU                    0.0\n",
       "Processor Speed        0.0\n",
       "Type                   0.0\n",
       "Maximum Resolution     0.0\n",
       "Model                  0.0\n",
       "OS                     0.0\n",
       "Hard Drive Capacity    0.0\n",
       "Storage Type           0.0\n",
       "Condition              0.0\n",
       "Price                  0.0\n",
       "dtype: float64"
      ]
     },
     "execution_count": 166,
     "metadata": {},
     "output_type": "execute_result"
    }
   ],
   "source": [
    "ebay_data_sample.isna().sum() / len(ebay_data_sample) * 100"
   ]
  },
  {
   "cell_type": "markdown",
   "metadata": {},
   "source": [
    "Began cleaning the Data, started with Brand, checked to see what infomration was in Brand "
   ]
  },
  {
   "cell_type": "code",
   "execution_count": 167,
   "metadata": {},
   "outputs": [
    {
     "name": "stderr",
     "output_type": "stream",
     "text": [
      "/var/folders/3c/wr4hqzhx5qdczw1n7q7c_nvh0000gp/T/ipykernel_20954/1961798267.py:1: SettingWithCopyWarning: \n",
      "A value is trying to be set on a copy of a slice from a DataFrame.\n",
      "Try using .loc[row_indexer,col_indexer] = value instead\n",
      "\n",
      "See the caveats in the documentation: https://pandas.pydata.org/pandas-docs/stable/user_guide/indexing.html#returning-a-view-versus-a-copy\n",
      "  ebay_data_sample['Brand'] = ebay_data_sample['Brand'].str.title()\n"
     ]
    },
    {
     "data": {
      "text/plain": [
       "array(['Acer', 'Asus', 'Chuwi', 'Dell', 'Dell Inc.', 'Dell Inspiron',\n",
       "       'Dell/Hp/Lenovo/Stone', 'Different', 'Fujitsu', 'Gateway', 'Getac',\n",
       "       'Gpd', 'Hp', 'Hp Dell Lenovo Select From Above', 'Intel', 'Jumper',\n",
       "       'Lenovo', 'Lenovo T440', 'Lg', 'Microsoft', 'Msi', 'Panasonic',\n",
       "       'Razer', 'Samsung', 'Sgin', 'Toshiba', 'Xplore', 'Zzetze'],\n",
       "      dtype=object)"
      ]
     },
     "execution_count": 167,
     "metadata": {},
     "output_type": "execute_result"
    }
   ],
   "source": [
    "ebay_data_sample['Brand'] = ebay_data_sample['Brand'].str.title()\n",
    "ebay_data_sample_1 = ebay_data_sample['Brand'].unique()\n",
    "ebay_data_sample_1.sort()\n",
    "ebay_data_sample_1"
   ]
  },
  {
   "cell_type": "markdown",
   "metadata": {},
   "source": [
    "Deleted any items that shouldnt be in Brand, using a for loop. These items are not Brands"
   ]
  },
  {
   "cell_type": "code",
   "execution_count": 168,
   "metadata": {},
   "outputs": [],
   "source": [
    "unkown_brand = ['Different','Zzetze','Intel']\n",
    "for item in unkown_brand:\n",
    "    ebay_data_sample = ebay_data_sample[ebay_data_sample['Brand'] != item ]"
   ]
  },
  {
   "cell_type": "markdown",
   "metadata": {},
   "source": [
    "Moving onto the next array to clean, Processor, checked to see what infomration was in Processor."
   ]
  },
  {
   "cell_type": "code",
   "execution_count": 169,
   "metadata": {},
   "outputs": [
    {
     "data": {
      "text/plain": [
       "array(['11 Gen Intel Core I3', '11Th Generation Intel® Core™ I7-1165G7',\n",
       "       '12Th Gen Intel Core I5-12450H', 'Amd', 'Amd 3015Ce',\n",
       "       'Amd A4-9120C', 'Amd A6-7310 Apu', 'Amd E-Series', 'Amd Ryzen 3',\n",
       "       'Amd Ryzen 5', 'Amd Ryzen 5-3550H', 'Amd Ryzen 7',\n",
       "       'Amd Ryzen 7 5800Hs', 'Amd Ryzen 7 7840Hs',\n",
       "       'Amd Ryzen 7 Pro 3700U', 'Amd Ryzen Pro 3', 'Amd Turion 64',\n",
       "       'Core I5 8Th Gen', 'Dual Core', 'I5', 'I5-11500H', 'I5-4200M',\n",
       "       'I5-7200U', 'I5-7300Hq', 'I7-1165G7', 'I7-3630Qm@2.4Ghz',\n",
       "       'I7-6600U', 'I7-7820Hq', 'I7-8550U', 'Intel Celeron',\n",
       "       'Intel Celeron Dual Core', 'Intel Celeron N',\n",
       "       'Intel Celeron N2840', 'Intel Celeron N2940 1.83Ghz Quad',\n",
       "       'Intel Celeron N3050', 'Intel Celeron N3050 1.6Ghz Dual-Core',\n",
       "       'Intel Celeron N3060', 'Intel Celeron N3350',\n",
       "       'Intel Celeron N4020', 'Intel Celeron N4100',\n",
       "       'Intel Celeron N4500', 'Intel Celeron N5100',\n",
       "       'Intel Celeron Processor N4100', 'Intel Core 2 Duo',\n",
       "       'Intel Core Duo', 'Intel Core I3', 'Intel Core I3 10Th Gen.',\n",
       "       'Intel Core I3 11Th Gen.', 'Intel Core I3 12Th Gen.',\n",
       "       'Intel Core I3 4Th Gen.', 'Intel Core I3 6Th Gen.',\n",
       "       'Intel Core I3-1115G4', 'Intel Core I3-1215U', 'Intel Core I5',\n",
       "       'Intel Core I5 10Th Gen.', 'Intel Core I5 11Th Gen.',\n",
       "       'Intel Core I5 12Th Gen.', 'Intel Core I5 13Th Gen.',\n",
       "       'Intel Core I5 1St Gen.', 'Intel Core I5 2Nd Gen.',\n",
       "       'Intel Core I5 3Rd Gen.', 'Intel Core I5 4Th Gen.',\n",
       "       'Intel Core I5 4Th Gen. 2.70Ghz', 'Intel Core I5 5Th Gen.',\n",
       "       'Intel Core I5 6Th Gen.',\n",
       "       'Intel Core I5 6Th Till 12Th Gen Select From Above',\n",
       "       'Intel Core I5 7Th Gen.', 'Intel Core I5 8Th Gen',\n",
       "       'Intel Core I5 8Th Gen.', 'Intel Core I5 Vpro 8Th Gen',\n",
       "       'Intel Core I5-1135G7', 'Intel Core I5-4300M Cpu @ 1.90 Ghz',\n",
       "       'Intel Core I5-4300Y', 'Intel Core I5-5300U',\n",
       "       'Intel Core I5-5300U Cpu @ 2.30 Ghz', 'Intel Core I5-6200U',\n",
       "       'Intel Core I5-6300U', 'Intel Core I5-8259U',\n",
       "       'Intel Core I5-8300H', 'Intel Core I7', 'Intel Core I7 10Th Gen.',\n",
       "       'Intel Core I7 11Th Gen.', 'Intel Core I7 12Th Gen.',\n",
       "       'Intel Core I7 13Th Gen.', 'Intel Core I7 2Nd Gen.',\n",
       "       'Intel Core I7 3Rd Gen.', 'Intel Core I7 4Th Gen',\n",
       "       'Intel Core I7 4Th Gen.', 'Intel Core I7 5Th Gen.',\n",
       "       'Intel Core I7 6Th Gen.', 'Intel Core I7 7Th Gen.',\n",
       "       'Intel Core I7 8Th Gen', 'Intel Core I7 8Th Gen.',\n",
       "       'Intel Core I7 9Th Gen.', 'Intel Core I7-4700 @ 2.4 Ghz',\n",
       "       'Intel Core I7-7Y75', 'Intel Core I7-8665U', 'Intel Core M3',\n",
       "       'Intel Core M3 7Th Gen.', 'Intel I3-5020U', 'Intel I5',\n",
       "       'Intel I5-2520M', 'Intel I5-7200U @2.50 Ghz,  2701 Mhz,  2Core(S)',\n",
       "       'Intel I7 8Th Gen', 'Intel I7 Quad-Core', 'Intel N100',\n",
       "       'Intel Pentium', 'Intel Pentium Gold', 'Intel Pentium M',\n",
       "       'Intel Pentium N4200', 'Intel Pentium N5030',\n",
       "       'Intel Pentium Silver N6000', 'Intel Quad I7-6920Hq @2.90Ghz',\n",
       "       'Microsoft Sq1', 'Microsoft Sq2', 'Quad Core',\n",
       "       'Quad-Core Intel N100', 'Ryzen 5 5625U'], dtype=object)"
      ]
     },
     "execution_count": 169,
     "metadata": {},
     "output_type": "execute_result"
    }
   ],
   "source": [
    "ebay_data_sample['Processor'] = ebay_data_sample['Processor'].str.title()\n",
    "sort_ebay_sample2 = ebay_data_sample['Processor'].unique()\n",
    "sort_ebay_sample2.sort()\n",
    "sort_ebay_sample2\n"
   ]
  },
  {
   "cell_type": "markdown",
   "metadata": {},
   "source": [
    "Deleted any items that shouldnt be in Processor, using a for loop. These items are not Processor or not spefific "
   ]
  },
  {
   "cell_type": "code",
   "execution_count": 170,
   "metadata": {},
   "outputs": [],
   "source": [
    "unkown_pro = ['Amd','Dual Core','Quad Core']\n",
    "for item in unkown_brand:\n",
    "    ebay_data_sample = ebay_data_sample[ebay_data_sample['Processor'] != item ]"
   ]
  },
  {
   "cell_type": "markdown",
   "metadata": {},
   "source": [
    "Moving onto the next array to clean, Screen Size, checked to see what infomration was in Screen Size."
   ]
  },
  {
   "cell_type": "code",
   "execution_count": 171,
   "metadata": {},
   "outputs": [
    {
     "data": {
      "text/plain": [
       "array(['10.1 In', '10.4 In', '10.5 In', '10.8 In', '11 In', '11.5 In',\n",
       "       '11.6 In', '11.6\"', '12 In', '12.1 In', '12.3 In', '12.5 In',\n",
       "       '12.5\" Fhd (1920X1080)', '12.5In.', '13 In', '13.1 In', '13.3 In',\n",
       "       '13.3\"', '13.5 In', '14', '14 In', '14 Inch',\n",
       "       '14\" Hd Matte Display', '14.1 In', '14.1\"', '14.1In.', '14.5 In',\n",
       "       '14In.', '15 In', '15.4 In', '15.6', '15.6 In', '15.6 In Fhd',\n",
       "       '15.6 Inches', '15.6\"', '16 In', '16.0 In', '16.1 In', '17 In',\n",
       "       '17.3 In', '7 In', 'Minimum 12.5\"', 'Various'], dtype=object)"
      ]
     },
     "execution_count": 171,
     "metadata": {},
     "output_type": "execute_result"
    }
   ],
   "source": [
    "ebay_data_sample['Screen Size'] = ebay_data_sample['Screen Size'].str.title()\n",
    "sort_ebay_sample3 = ebay_data_sample['Screen Size'].unique()\n",
    "sort_ebay_sample3.sort()\n",
    "sort_ebay_sample3"
   ]
  },
  {
   "cell_type": "markdown",
   "metadata": {},
   "source": [
    "Deleted any items that shouldnt be in Screen Size, using a for loop. These items are not spefific, or incorrect measurement"
   ]
  },
  {
   "cell_type": "code",
   "execution_count": 172,
   "metadata": {},
   "outputs": [],
   "source": [
    "unkown_ss = ['12.5\" Fhd (1920X1080)','14\" Hd Matte Display','15.6 In Fhd','Minimum 12.5\"']\n",
    "for item in unkown_brand:\n",
    "    ebay_data_sample = ebay_data_sample[ebay_data_sample['Screen Size'] != item ]"
   ]
  },
  {
   "cell_type": "markdown",
   "metadata": {},
   "source": [
    "Moving onto the next array to clean, Ram Size, checked to see what infomration was in Ram Size."
   ]
  },
  {
   "cell_type": "code",
   "execution_count": 173,
   "metadata": {},
   "outputs": [
    {
     "data": {
      "text/plain": [
       "array(['12 Gb', '12Gb', '16 Gb', '16 Gb Ddr4', '16 Gb Ram', '16Gb',\n",
       "       '2 Gb', '20 Gb', '20Gb', '24 Gb', '24Gb', '32 Gb', '4 Gb',\n",
       "       '4 Gb- 8 Gb', '4 Mb', '4Gb', '512 Gb', '6 Gb', '64 Gb', '64 Mb',\n",
       "       '8 Gb', '8 Gb Ddr4 Installed---Can Upgrade O 32Gb Ddr4', '8Gb',\n",
       "       '8Gb / 16 Gb Or 32Gb Select From Above', '8Gb Ddr4',\n",
       "       '8Gb,  16Gb,  32Gb,  64Gb', 'Up To 32 Gb', 'Up To 32Gb',\n",
       "       'Up To 36 Gb', 'Up To 40Gb', 'Up To 64Gb'], dtype=object)"
      ]
     },
     "execution_count": 173,
     "metadata": {},
     "output_type": "execute_result"
    }
   ],
   "source": [
    "ebay_data_sample['Ram Size'] = ebay_data_sample['Ram Size'].str.title()\n",
    "sort_ebay_sample4 = ebay_data_sample['Ram Size'].unique()\n",
    "sort_ebay_sample4.sort()\n",
    "sort_ebay_sample4"
   ]
  },
  {
   "cell_type": "markdown",
   "metadata": {},
   "source": [
    "Deleted any items that shouldnt be in Ram Size, using a for loop. These items are not spefific, or incorrect measurement"
   ]
  },
  {
   "cell_type": "code",
   "execution_count": 174,
   "metadata": {},
   "outputs": [],
   "source": [
    "unkown_RS = ['8 Gb Ddr4 Installed---Can Upgrade O 32Gb Ddr4','16 Gb Ddr4','4 Gb- 8 Gb Core','8 Gb Ddr4 Installed Core''8Gb / 16 Gb Or 32Gb Select From Above','8Gb Ddr4 Core','Up To 32 Gb''8Gb, 16Gb, 32Gb, 64Gb','Up To 32Gb','Up To 36 Gb','Up To 40Gb','Up To 64Gb']\n",
    "for item in unkown_brand:\n",
    "    ebay_data_sample = ebay_data_sample[ebay_data_sample['Ram Size'] != item ]"
   ]
  },
  {
   "cell_type": "markdown",
   "metadata": {},
   "source": [
    "Moving onto the next array to clean, SSD Capacity, checked to see what infomration was in SSD Capacity."
   ]
  },
  {
   "cell_type": "code",
   "execution_count": 175,
   "metadata": {},
   "outputs": [
    {
     "data": {
      "text/plain": [
       "array(['.', '0', '1 Tb', '1 Tb(Not In)',\n",
       "       '1 Used,  1 Support Max 1Tb M.2 Extend', '120 Gb',\n",
       "       '120 Gb - 240 Gb', '120Gb', '128 Gb', '128Gb',\n",
       "       '128Gb,  256Gb,  500Gb,  1Tb,  2Tb', '16 Gb', '16Gb', '180Gb',\n",
       "       '1Tb', '2 Tb', '240Gb', '256 Gb', '256 Gbssd', '256Gb', '256Ssd',\n",
       "       '2Tb', '32 Gb', '32Gb', '4 Tb', '500 Gb', '512', '512 Gb',\n",
       "       '512 Gb Ssd', '512Gb', '64 Gb', '64Gb', '931.51Gb',\n",
       "       'From 120Gb Till 1Tb Ssd Select From Above', 'Na', 'None',\n",
       "       'Not Applicable', 'Not Include', 'Up To 1 Tb', 'Up To 2 Tb',\n",
       "       'Up To 2Tb'], dtype=object)"
      ]
     },
     "execution_count": 175,
     "metadata": {},
     "output_type": "execute_result"
    }
   ],
   "source": [
    "ebay_data_sample['SSD Capacity'] = ebay_data_sample['SSD Capacity'].str.title()\n",
    "sort_ebay_sample5 = ebay_data_sample['SSD Capacity'].unique()\n",
    "sort_ebay_sample5.sort()\n",
    "sort_ebay_sample5"
   ]
  },
  {
   "cell_type": "markdown",
   "metadata": {},
   "source": [
    "Deleted any items that shouldnt be in SSD Capacity, using a for loop. These items are not spefific, or incorrect measurement"
   ]
  },
  {
   "cell_type": "code",
   "execution_count": 176,
   "metadata": {},
   "outputs": [],
   "source": [
    "unkown_SC = ['0','1 Tb(Not In)','1 Used,  1 Support Max 1Tb M.2 Extend','120 Gb - 240 Gb','128Gb, 256Gb, 500Gb, 1Tb, 2Tb','From 120Gb Till 1Tb Ssd Select From Above','Na','None','Not Applicable','Not Include','Up To 1 Tb']\n",
    "for item in unkown_brand:\n",
    "    ebay_data_sample = ebay_data_sample[ebay_data_sample['SSD Capacity'] != item ]"
   ]
  },
  {
   "cell_type": "markdown",
   "metadata": {},
   "source": [
    "Moving onto the next array to clean, GPU, checked to see what infomration was in GPU."
   ]
  },
  {
   "cell_type": "code",
   "execution_count": 177,
   "metadata": {},
   "outputs": [
    {
     "data": {
      "text/plain": [
       "array(['.', '2Gb Nvidia Quadro M1000M', 'Amd R4 Graphics',\n",
       "       'Amd Radeon 4Gb Gpu', 'Amd Radeon Graphics', 'Amd Radeon R4',\n",
       "       'Amd Radeon R7 M350',\n",
       "       'Amd Radeon Rx 560X - 4Gb / Amd Radeon Vega 8 Graphics',\n",
       "       'Amd Radeon Rx Vega 10', 'Amd Radeon Vega 8',\n",
       "       'Amd Radeon™ Graphics', 'Ati Mobility Radeon X600',\n",
       "       'Ati Radeon Xpress Series', 'Integrated', 'Integrated Graphics',\n",
       "       'Integrated Intel Hd Graphics', 'Integrated Intel Uhd Graphics',\n",
       "       'Integrated Intel Uhd Graphics 630', 'Intel Arc 370M',\n",
       "       'Intel Core I3-1005G1', 'Intel Gma', 'Intel Hd',\n",
       "       'Intel Hd 520 Graphics', 'Intel Hd Graphics',\n",
       "       'Intel Hd Graphics 3000', 'Intel Hd Graphics 400',\n",
       "       'Intel Hd Graphics 4000', 'Intel Hd Graphics 4600',\n",
       "       'Intel Hd Graphics 500', 'Intel Hd Graphics 5000',\n",
       "       'Intel Hd Graphics 505', 'Intel Hd Graphics 510',\n",
       "       'Intel Hd Graphics 515', 'Intel Hd Graphics 520',\n",
       "       'Intel Hd Graphics 530', 'Intel Hd Graphics 5300',\n",
       "       'Intel Hd Graphics 5500', 'Intel Hd Graphics 6000',\n",
       "       'Intel Hd Graphics 615', 'Intel Hd Graphics 620',\n",
       "       'Intel Hd Graphics 630', 'Intel Iris Plus Graphics',\n",
       "       'Intel Iris Plus Graphics 655', 'Intel Iris Xe Graphics',\n",
       "       'Intel Uhd Graphics', 'Intel Uhd Graphics 520',\n",
       "       'Intel Uhd Graphics 600', 'Intel Uhd Graphics 600, 650Mhz',\n",
       "       'Intel Uhd Graphics 605', 'Intel Uhd Graphics 615',\n",
       "       'Intel Uhd Graphics 620',\n",
       "       'Intel Uhd Graphics For 10Th Generation Processors',\n",
       "       'Intel Uhd Graphics For 8Th Generation Processors',\n",
       "       'Intel Uhd Graphics G1', 'Intel® Hd Graphics',\n",
       "       'Intel® Hd Graphics 520', 'Intel® Iris Xe', 'Intel® Uhd Graphics',\n",
       "       'Intel® Uhd Graphics 600', 'Intel® Uhd Graphics 600, 250-750Mhz',\n",
       "       'Microsoft Sq1 Adreno 685', 'Nvida Quadro K1000M', 'Nvidia 850M',\n",
       "       'Nvidia Geforce 320M', 'Nvidia Geforce 9400M',\n",
       "       'Nvidia Geforce Gt 730M', 'Nvidia Geforce Gtx 1050 Ti',\n",
       "       'Nvidia Geforce Gtx 1650', 'Nvidia Geforce Gtx 1650 Ti',\n",
       "       'Nvidia Geforce Mx350', 'Nvidia Geforce Rtx 1650',\n",
       "       'Nvidia Geforce Rtx 2050', 'Nvidia Geforce Rtx 2070',\n",
       "       'Nvidia Geforce Rtx 3050Ti', 'Nvidia Geforce Rtx 3070',\n",
       "       'Nvidia Geforce Rtx 4060', 'Nvidia Quadro 2000M',\n",
       "       'Nvidia Quadro K1100M 2Gb',\n",
       "       'Nvidia Quadro M1200 4Gb (I7-7Th Gen),  M1000M 2Gb (I7-6Th Gen)',\n",
       "       'Nvidia Quadro P1000', 'Nvidia Quadro P2000',\n",
       "       'Nvidia Quadro P3200',\n",
       "       'Nvidia Quadro P3200 With 6Gb Gddr5 Dedicated Memory',\n",
       "       'Nvidia Quadro P520', 'Nvidia Quadro Rtx 4000',\n",
       "       'Nvidia Quadro T2000', 'Nvidia Rtx A1000,  6 Gb Gddr6',\n",
       "       'Nvidia Rtx A2000', 'Quadro M620', 'Qualcomm Adreno 690',\n",
       "       'Radeon Vega Mobile Gfx', 'Yoga'], dtype=object)"
      ]
     },
     "execution_count": 177,
     "metadata": {},
     "output_type": "execute_result"
    }
   ],
   "source": [
    "ebay_data_sample['GPU'] = ebay_data_sample['GPU'].str.title()\n",
    "sort_ebay_sample6 = ebay_data_sample['GPU'].unique()\n",
    "sort_ebay_sample6.sort()\n",
    "sort_ebay_sample6"
   ]
  },
  {
   "cell_type": "markdown",
   "metadata": {},
   "source": [
    "Deleted any incorrect value in GPU and save the correct item for futher cleaning \n"
   ]
  },
  {
   "cell_type": "code",
   "execution_count": 178,
   "metadata": {},
   "outputs": [],
   "source": [
    "unkown_brand_GPU = ['3.10 Ghz (2.50 Ghz Base Frequnecy)','3.60 Ghz (1.70 Ghz Base Frequency)','4.90 Ghz (1.80 Ghz Base Frequency)','Max Turbo Frequency @ 3.90 Ghz','Up To 2.8Ghz','Up To 3.6Ghz','Up To 4.20Ghz', 'Up To 4.4Ghz', 'Up To 4.5Ghz']\n",
    "for item in unkown_brand_GPU:\n",
    "    ebay_data_sample = ebay_data_sample[ebay_data_sample['GPU'] != item ]"
   ]
  },
  {
   "cell_type": "markdown",
   "metadata": {},
   "source": [
    "Now going into the formating of the GPU I create a dunction that would go down all items in the array and ensure that they are formatted in the same way as 'Ghz' and have consicent formatting "
   ]
  },
  {
   "cell_type": "code",
   "execution_count": 179,
   "metadata": {},
   "outputs": [
    {
     "data": {
      "text/plain": [
       "array(['1.00 GHz', '1.00 GHz.83ghz', '1.07 GHz', '1.1 GHz', '1.1-2.8 GHz',\n",
       "       '1.10 GHz', '1.10GHz', '1.20 GHz', '1.40 GHz', '1.50 GHz',\n",
       "       '1.6 GHz', '1.60 GHz', '1.60GHz', '1.7 GHz', '1.70 GHz',\n",
       "       '1.73 GHz', '1.80 GHz', '1.80 Ghz', '1.83 GHz', '1.87 GHz',\n",
       "       '1.9 GHz', '1.90 GHz', '1.90 Ghz', '1.90GHz', '2.00 GHz',\n",
       "       '2.00GHz', '2.10 GHz', '2.16 GHz', '2.20 GHz', '2.30 GHz',\n",
       "       '2.30 GHz / 4.60 GHz', '2.30 Ghz', '2.3GHz', '2.40 GHz',\n",
       "       '2.40 GHz+', '2.40 Ghz', '2.48 GHz', '2.4ghz', '2.50 GHz',\n",
       "       '2.5GHz', '2.60 GHz', '2.67 GHz', '2.6GHz', '2.70 GHz',\n",
       "       '2.80 - 4.70 GHz', '2.80 GHz', '2.8GHz-3.8GHz', '2.90 GHz',\n",
       "       '2.90GHz', '3.00 GHz', '3.10 GHz',\n",
       "       '3.10 GHz (2.50 GHz Base Frequnecy)', '3.30 GHz', '3.40 GHz',\n",
       "       '3.50 GHz', '3.50GHz', '3.60 GHz',\n",
       "       '3.60 GHz (1.70 GHz Base Frequency)', '3.80 GHz', '3.90 GHz',\n",
       "       '3.90 GHz (2.80 GHz Base Frequency)', '4.10 GHz', '4.20 GHz',\n",
       "       '4.30 GHz', '4.6 GHz', '4.60 GHz', '4.70 GHz', '4.7GHz',\n",
       "       '4.90 GHz', '4.90 GHz (1.80 GHz Base Frequency)', '5.00 GHz',\n",
       "       '5.10 ghz', 'I5-8350u @1.7GHz', 'Max Turbo Frequency @ 3.90 GHz',\n",
       "       'Max up to 3.80 GHz', 'Minimum 1.40 GHz', 'UP to 3.4',\n",
       "       'Up to 3.3GHz', 'Up to 4.10GHz', 'Up to 4.20GHz', 'Up to 4.2GHz',\n",
       "       'Up to 4.3GHz', 'Up to 4.40GHz', 'Up to 4.4GHz', 'Up to 4.5GHz',\n",
       "       'up to 2.8GHZ', 'up to 3.4', 'up to 3.6'], dtype=object)"
      ]
     },
     "execution_count": 179,
     "metadata": {},
     "output_type": "execute_result"
    }
   ],
   "source": [
    "def format_processor_speed_add_ghz(speed):\n",
    "\n",
    "    if 'Ghz' not in speed:\n",
    "        try:\n",
    "            speed = f\"{float(speed):.2f} Ghz\"  \n",
    "        except ValueError:\n",
    "            return speed\n",
    "    else:\n",
    "        parts = speed.replace('Ghz', '').strip().split('-')\n",
    "        formatted_parts = []\n",
    "        for part in parts:\n",
    "            try:\n",
    "                formatted_parts.append(f\"{float(part):.2f} Ghz\")\n",
    "            except ValueError:\n",
    "                formatted_parts.append(part)\n",
    "        return ' - '.join(formatted_parts)\n",
    "    \n",
    "    return speed\n",
    "\n",
    "ebay_data_sample['Processor Speed'] = ebay_data_sample['Processor Speed'].apply(format_processor_speed_add_ghz)\n",
    "\n",
    "sort_ebay_brnd_sample = ebay_data_sample['Processor Speed'].unique()\n",
    "sort_ebay_brnd_sample.sort()\n",
    "sort_ebay_brnd_sample"
   ]
  },
  {
   "cell_type": "markdown",
   "metadata": {},
   "source": [
    "The Next function is simialr to the above one, but instead it goes down the entire array and make sure that there is a space between the unit and the unit of measure."
   ]
  },
  {
   "cell_type": "code",
   "execution_count": 180,
   "metadata": {},
   "outputs": [
    {
     "data": {
      "text/plain": [
       "array(['1.00 GHz', '1.00 GHz.83ghz', '1.07 GHz', '1.1 GHz', '1.1-2.8 GHz',\n",
       "       '1.10 GHz', '1.10GHz', '1.20 GHz', '1.40 GHz', '1.50 GHz',\n",
       "       '1.6 GHz', '1.60 GHz', '1.60GHz', '1.7 GHz', '1.70 GHz',\n",
       "       '1.73 GHz', '1.80 GHz', '1.80 Ghz', '1.83 GHz', '1.87 GHz',\n",
       "       '1.9 GHz', '1.90 GHz', '1.90 Ghz', '1.90GHz', '2.00 GHz',\n",
       "       '2.00GHz', '2.10 GHz', '2.16 GHz', '2.20 GHz', '2.30 GHz',\n",
       "       '2.30 GHz / 4.60 GHz', '2.30 Ghz', '2.3GHz', '2.40 GHz',\n",
       "       '2.40 GHz+', '2.40 Ghz', '2.48 GHz', '2.4ghz', '2.50 GHz',\n",
       "       '2.5GHz', '2.60 GHz', '2.67 GHz', '2.6GHz', '2.70 GHz',\n",
       "       '2.80 - 4.70 GHz', '2.80 GHz', '2.8GHz-3.8GHz', '2.90 GHz',\n",
       "       '2.90GHz', '3.00 GHz', '3.10 GHz',\n",
       "       '3.10 GHz (2.50 GHz Base Frequnecy)', '3.30 GHz', '3.40 GHz',\n",
       "       '3.50 GHz', '3.50GHz', '3.60 GHz',\n",
       "       '3.60 GHz (1.70 GHz Base Frequency)', '3.80 GHz', '3.90 GHz',\n",
       "       '3.90 GHz (2.80 GHz Base Frequency)', '4.10 GHz', '4.20 GHz',\n",
       "       '4.30 GHz', '4.6 GHz', '4.60 GHz', '4.70 GHz', '4.7GHz',\n",
       "       '4.90 GHz', '4.90 GHz (1.80 GHz Base Frequency)', '5.00 GHz',\n",
       "       '5.10 ghz', 'I5-8350u @1.7GHz', 'Max Turbo Frequency @ 3.90 GHz',\n",
       "       'Max up to 3.80 GHz', 'Minimum 1.40 GHz', 'UP to 3.4',\n",
       "       'Up to 3.3GHz', 'Up to 4.10GHz', 'Up to 4.20GHz', 'Up to 4.2GHz',\n",
       "       'Up to 4.3GHz', 'Up to 4.40GHz', 'Up to 4.4GHz', 'Up to 4.5GHz',\n",
       "       'up to 2.8GHZ', 'up to 3.4', 'up to 3.6'], dtype=object)"
      ]
     },
     "execution_count": 180,
     "metadata": {},
     "output_type": "execute_result"
    }
   ],
   "source": [
    "def format_processor_speed(speed):\n",
    "    if 'Ghz' in speed:\n",
    "        parts = speed.replace('Ghz', '').strip().split('-')\n",
    "        formatted_parts = []\n",
    "        for part in parts:\n",
    "            try:\n",
    "                formatted_parts.append(f\"{float(part):.2f} Ghz\")\n",
    "            except ValueError:\n",
    "                formatted_parts.append(part)\n",
    "        return ' - '.join(formatted_parts)\n",
    "    return speed\n",
    "\n",
    "ebay_data_sample['Processor Speed'] = ebay_data_sample['Processor Speed'].apply(format_processor_speed)\n",
    "\n",
    "sort_ebay_brnd_sample = ebay_data_sample['Processor Speed'].unique()\n",
    "sort_ebay_brnd_sample.sort()\n",
    "sort_ebay_brnd_sample"
   ]
  },
  {
   "cell_type": "markdown",
   "metadata": {},
   "source": [
    "Moving onto the next array to clean, Type, checked to see what infomration was in Type."
   ]
  },
  {
   "cell_type": "code",
   "execution_count": 181,
   "metadata": {},
   "outputs": [
    {
     "data": {
      "text/plain": [
       "array(['2 In 1 Laptop/Tablet', 'Chromebook', 'Computers',\n",
       "       'Convertible 2-In-1 Laptop/Tablet', 'Gaming Laptop Computers',\n",
       "       'Laptop', 'Laptop/Portable Workstation', 'Laptop/Tablet', 'Nb',\n",
       "       'Netbook', 'Notebook', 'Notebook/Laptop', 'Notebook/Laptop/Tablet',\n",
       "       'Rugged Tough Tablet', 'Subnotebook/Ultraportable', 'Tablet',\n",
       "       'Tablet Computer', 'Tablet Notebook', 'Tablet/Laptop Convertible',\n",
       "       'Thinkpad', 'Ultrabook'], dtype=object)"
      ]
     },
     "execution_count": 181,
     "metadata": {},
     "output_type": "execute_result"
    }
   ],
   "source": [
    "ebay_data_sample['Type'] = ebay_data_sample['Type'].str.title()\n",
    "sort_ebay_sample7 = ebay_data_sample['Type'].unique()\n",
    "sort_ebay_sample7.sort()\n",
    "sort_ebay_sample7"
   ]
  },
  {
   "cell_type": "markdown",
   "metadata": {},
   "source": [
    "This will deleted the unknown items found inside Type"
   ]
  },
  {
   "cell_type": "code",
   "execution_count": 182,
   "metadata": {},
   "outputs": [],
   "source": [
    "unkown_Type = ['Thinkpad','Rugged Tough Tablet','Netbook']\n",
    "for item in unkown_Type:\n",
    "    ebay_data_sample = ebay_data_sample[ebay_data_sample['Type'] != item ]"
   ]
  },
  {
   "cell_type": "markdown",
   "metadata": {},
   "source": [
    "This function will go down the array and convert any inconsitant formatting into speific values, like 2-in-1 to convertible laptop/ tablet"
   ]
  },
  {
   "cell_type": "code",
   "execution_count": 183,
   "metadata": {},
   "outputs": [],
   "source": [
    "def clean_device_type(device_type):\n",
    "    if '2-In-1' in device_type or '2 In 1' in device_type:\n",
    "        return 'Convertible Laptop/Tablet'\n",
    "    elif 'Notebook' in device_type or 'Laptop' in device_type:\n",
    "        return 'Laptop'\n",
    "    elif 'Tablet' in device_type:\n",
    "        return 'Tablet'\n",
    "    return device_type  \n",
    "\n",
    "ebay_data_sample['Type'] = ebay_data_sample['Type'].apply(clean_device_type)\n"
   ]
  },
  {
   "cell_type": "markdown",
   "metadata": {},
   "source": [
    "Moving onto the next array to clean, Maximum Resolution, checked to see what infomration was in Maximum Resolution."
   ]
  },
  {
   "cell_type": "code",
   "execution_count": 184,
   "metadata": {},
   "outputs": [
    {
     "data": {
      "text/plain": [
       "array(['1024 X 480', '1024 X 728', '1024 X 768', '1028 X 800',\n",
       "       '1280 X 800', '1366 X 768', '1366 X 786', '1366X768', '1600 X 900',\n",
       "       '1680 X 1050', '1900X600', '1920 X 1080', '1920 X 1080P',\n",
       "       '1920 X 1200', '1920 X 1280', '1920X1080', '2160 X 1440',\n",
       "       '2256 X 1504', '2560 X 1440', '2560 X 1600', '2560X1600',\n",
       "       '2736 X 1824', '2880 X 1800', '2880 X 1920', '3000 X 2000',\n",
       "       '3840 X 2160', '3840 X 2400', 'Any', 'Full Hd (1920 X 1080)',\n",
       "       'Full Hd (1920X1080P)', 'Hd (1366 X 768)', 'High Quality'],\n",
       "      dtype=object)"
      ]
     },
     "execution_count": 184,
     "metadata": {},
     "output_type": "execute_result"
    }
   ],
   "source": [
    "ebay_data_sample['Maximum Resolution'] = ebay_data_sample['Maximum Resolution'].str.title()\n",
    "sort_ebay_sample8 = ebay_data_sample['Maximum Resolution'].unique()\n",
    "sort_ebay_sample8.sort()\n",
    "sort_ebay_sample8"
   ]
  },
  {
   "cell_type": "markdown",
   "metadata": {},
   "source": [
    "This will deleted the items in the array that are not speific Resolutions "
   ]
  },
  {
   "cell_type": "code",
   "execution_count": 185,
   "metadata": {},
   "outputs": [],
   "source": [
    "unkown_brand_GPU = ['Any','High Quality']\n",
    "for item in unkown_brand_GPU:\n",
    "    ebay_data_sample = ebay_data_sample[ebay_data_sample['Maximum Resolution'] != item ]"
   ]
  },
  {
   "cell_type": "markdown",
   "metadata": {},
   "source": [
    "This function will go down the array and add a space the number and X "
   ]
  },
  {
   "cell_type": "code",
   "execution_count": 186,
   "metadata": {},
   "outputs": [
    {
     "data": {
      "text/plain": [
       "array(['1024 X 480', '1024 X 728', '1024 X 768', '1028 X 800',\n",
       "       '1280 X 800', '1366 X 768', '1366 X 786', '1600 X 900',\n",
       "       '1680 X 1050', '1900 X 600', '1920 X 1080', '1920 X 1080P',\n",
       "       '1920 X 1200', '1920 X 1280', '2160 X 1440', '2256 X 1504',\n",
       "       '2560 X 1440', '2560 X 1600', '2736 X 1824', '2880 X 1800',\n",
       "       '2880 X 1920', '3000 X 2000', '3840 X 2160', '3840 X 2400',\n",
       "       'Full Hd (1920 X 1080)', 'Full Hd (1920 X 1080P)',\n",
       "       'Hd (1366 X 768)'], dtype=object)"
      ]
     },
     "execution_count": 186,
     "metadata": {},
     "output_type": "execute_result"
    }
   ],
   "source": [
    "def fix_resolution_spacing(resolution):\n",
    "    resolution = resolution.replace('X', ' X ')\n",
    "    \n",
    "    resolution = ' '.join(resolution.split()) \n",
    "\n",
    "    return resolution\n",
    "\n",
    "\n",
    "ebay_data_sample['Maximum Resolution'] = ebay_data_sample['Maximum Resolution'].apply(fix_resolution_spacing)\n",
    "\n",
    "sort_cleaned_resolutions = ebay_data_sample['Maximum Resolution'].unique()\n",
    "sort_cleaned_resolutions.sort()\n",
    "\n",
    "sort_cleaned_resolutions"
   ]
  },
  {
   "cell_type": "markdown",
   "metadata": {},
   "source": [
    "Moving onto the next array to clean, Model, checked to see what infomration was in Model."
   ]
  },
  {
   "cell_type": "code",
   "execution_count": 187,
   "metadata": {},
   "outputs": [
    {
     "data": {
      "text/plain": [
       "array(['14', '14 G6', '14-An013Nr', '14A-Nb0013Dx', '15-Ba018Wm',\n",
       "       '15-Dy2091Wm', '15-Dy2795Wm', '15-Dy5131Wm', '17B', '20Ny-S3Y600',\n",
       "       '47X83Ua#Aba', '5410', '5580', '7290', '7530', '82R',\n",
       "       'Acer Aspire 1', 'Acer Aspire 3', 'Acer C740',\n",
       "       'Acer Chromebook C720', 'Acer Chromebook C731',\n",
       "       'Acer Chromebook Spin 511', 'Acer Chromebook Spin 713',\n",
       "       'Acer Nitro 5', 'Acer Swift 1', 'Aerobook Pro', 'Alienware 15 R3',\n",
       "       'An515-43-R0Ym', 'Asus E210', 'Asus Q534U', 'Asus Vivobook',\n",
       "       'C731T', 'C731T-C0X8', 'C732 Chromebook', 'Celeron N4020',\n",
       "       'Chromebook', 'Chromebook 11 C771-C4Tm', 'Chromebook 11 G4',\n",
       "       'Chromebook 11 G6 Ee', 'Chromebook 11 G6 Ee (3Nu57Ut#Aba)',\n",
       "       'Chromebook 14 G5', 'Chromebook C738T-C44Z', 'Chuwi Corebook X',\n",
       "       'Chuwi Freebook', 'Chuwi Herobook Pro', 'Chuwi Lapbook Pro',\n",
       "       'Chuwi Minibook X', 'Chuwi Ubook Xpro', 'Core I5', 'Core I7-1165U',\n",
       "       'Corebook X', 'Dell', 'Dell Chromebook', 'Dell Chromebook 11 3120',\n",
       "       'Dell Chromebook 13 -7310, I5', 'Dell Chromebook 3189', 'Dell Duo',\n",
       "       'Dell Hp Lenovo', 'Dell Inspiron 14 7405 2 In 1',\n",
       "       'Dell Inspiron 15 3520', 'Dell Inspiron 15 3535',\n",
       "       'Dell Inspiron 15 3552', 'Dell Inspiron 15 3593',\n",
       "       'Dell Inspiron 15 7000', 'Dell Inspiron 15 7506',\n",
       "       'Dell Inspiron 1501', 'Dell Inspiron 5767', 'Dell Inspiron 7720',\n",
       "       'Dell Latitude 3189', 'Dell Latitude 3190', 'Dell Latitude 3570',\n",
       "       'Dell Latitude 5289', 'Dell Latitude 5290', 'Dell Latitude 5400',\n",
       "       'Dell Latitude 5420', 'Dell Latitude 5430 Rugged',\n",
       "       'Dell Latitude 5440', 'Dell Latitude 5480', 'Dell Latitude 5490',\n",
       "       'Dell Latitude 5490 7490', 'Dell Latitude 5520',\n",
       "       'Dell Latitude 5540', 'Dell Latitude 5580', 'Dell Latitude 5590',\n",
       "       'Dell Latitude 7280', 'Dell Latitude 7290', 'Dell Latitude 7320',\n",
       "       'Dell Latitude 7390', 'Dell Latitude 7400',\n",
       "       'Dell Latitude 7400 2In1', 'Dell Latitude 7410',\n",
       "       'Dell Latitude 7420', 'Dell Latitude 7480', 'Dell Latitude 7490',\n",
       "       'Dell Latitude D810', 'Dell Latitude E4310', 'Dell Latitude E5270',\n",
       "       'Dell Latitude E5450', 'Dell Latitude E5470',\n",
       "       'Dell Latitude E6230', 'Dell Latitude E6410',\n",
       "       'Dell Latitude E7270', 'Dell Latitude E7440',\n",
       "       'Dell Latitude E7470', 'Dell Latitude E7480 7480 E7280 7280',\n",
       "       'Dell Latitude Rugged 5414', 'Dell Precision 3520',\n",
       "       'Dell Precision 5520', 'Dell Precision 5530',\n",
       "       'Dell Precision 5550', 'Dell Precision 7510',\n",
       "       'Dell Precision M4700', 'Dell Xps 13 7390', 'Dell Xps 13 9380',\n",
       "       'E540', 'Elite X2 1013 G3', 'Elitebook 745 G6', 'Elitebook 840 G3',\n",
       "       'Elitebook 840 G5', 'Elitebook 840 G6', 'F110 G3',\n",
       "       'Fujitsu Lifebook T902', 'Gateway Gwtn141-10Gr', 'Gateway I5-12Th',\n",
       "       'Gdp Pocket 2', 'Gemibook Plus', 'Gwtc71427-Bk', 'Herobook Pro',\n",
       "       'Hp 14-Fq0013Dx', 'Hp 15 Essential', 'Hp 15 Inch Laptop',\n",
       "       'Hp 15-Ay009Dx', 'Hp 17-By2Xxx', 'Hp 17-Cn3097Nr', 'Hp 840 G3',\n",
       "       'Hp 850 G2', 'Hp Chromebook', 'Hp Chromebook 11 G4',\n",
       "       'Hp Chromebook 11 G5', 'Hp Chromebook 11 G7 Ee',\n",
       "       'Hp Chromebook 14 G1', 'Hp Chromebook 14 G3',\n",
       "       'Hp Chromebook 14 G4', 'Hp Dev One Notebook Pc',\n",
       "       'Hp Elite X2 1012 G2', 'Hp Elitebook 745 G5', 'Hp Elitebook 840',\n",
       "       'Hp Elitebook 840 G3', 'Hp Elitebook 840 G6',\n",
       "       'Hp Elitebook 840 G8 11Th', 'Hp Elitebook 8460P',\n",
       "       'Hp Elitebook 850', 'Hp Elitebook 850 G4', 'Hp Elitebook 850 G5',\n",
       "       'Hp Elitebook 8560P', 'Hp Elitebook Mt45',\n",
       "       'Hp Elitebook Revolve 810 G2', 'Hp Elitebook X360 1030 G4',\n",
       "       'Hp Elitlebook G5', 'Hp Envy', 'Hp Envy 16-H0112Nr',\n",
       "       'Hp Envy X360', 'Hp Omen', 'Hp Pavilion X360',\n",
       "       'Hp Pro X2 612 G2 Tablet', 'Hp Probook', 'Hp Probook 440 G3',\n",
       "       'Hp Probook 450 G8', 'Hp Probook X360 11 G1 Ee', 'Hp Stream',\n",
       "       'Hp Victus', 'Hp Victus 15', 'Hp Zbook 15', 'Hp Zbook 17 G5',\n",
       "       'Hp Zbook Firefly 14 G7 Mobile Workstation', 'I5 4200M',\n",
       "       'I5-4300Y', 'Ideapad 1 14Igl05', 'Ideapad Flex 5 14Iil05',\n",
       "       'Inspiron 7000', 'L300', 'Latitude 13 7330 Rugged Extreme',\n",
       "       'Latitude 3390', 'Latitude 3420', 'Latitude 5430 Rugged',\n",
       "       'Latitude 5440 Laptop', 'Latitude 7230 Rugged Extreme Tablet',\n",
       "       'Latitude E5470', 'Latitude E6420', 'Latitude E6420/6430',\n",
       "       'Latitude E7270', 'Lenovo 100E', 'Lenovo 100E Chromebook',\n",
       "       'Lenovo 300E Winbook', 'Lenovo Chromebook 82C1',\n",
       "       'Lenovo Chromebook N40-20', 'Lenovo Ideapad 1',\n",
       "       'Lenovo Ideapad 3 15Iau7', 'Lenovo Ideapad 3I', 'Lenovo Ideapad 5',\n",
       "       'Lenovo L14 11Gen', 'Lenovo Loq 82Xv000Vus', 'Lenovo N22',\n",
       "       'Lenovo T480', 'Lenovo Thinkpad A485', 'Lenovo Thinkpad E14',\n",
       "       'Lenovo Thinkpad E14 2Nd Gen', 'Lenovo Thinkpad E14 Gen 2',\n",
       "       'Lenovo Thinkpad E15', 'Lenovo Thinkpad E540',\n",
       "       'Lenovo Thinkpad E560', 'Lenovo Thinkpad Edge',\n",
       "       'Lenovo Thinkpad L13 Yoga', 'Lenovo Thinkpad T14',\n",
       "       'Lenovo Thinkpad T420', 'Lenovo Thinkpad T440',\n",
       "       'Lenovo Thinkpad T450', 'Lenovo Thinkpad T460',\n",
       "       'Lenovo Thinkpad T470', 'Lenovo Thinkpad T470S',\n",
       "       'Lenovo Thinkpad T480', 'Lenovo Thinkpad T480S',\n",
       "       'Lenovo Thinkpad T490', 'Lenovo Thinkpad T490S',\n",
       "       'Lenovo Thinkpad T580', 'Lenovo Thinkpad T590',\n",
       "       'Lenovo Thinkpad Twist I5-3317U', 'Lenovo Thinkpad X1',\n",
       "       'Lenovo Thinkpad X1 Tablet Gen 3', 'Lenovo Thinkpad X1 Yoga',\n",
       "       'Lenovo Thinkpad X1 Yoga (4Th Gen)',\n",
       "       'Lenovo Thinkpad X1 Yoga (5Th Gen)', 'Lenovo Thinkpad Yoga 11E',\n",
       "       'Lenovo Yoga 13', 'Lg Ultra', 'Libreboot T440P',\n",
       "       'Microsoft Surface Book 2', 'Microsoft Surface Go 3',\n",
       "       'Microsoft Surface Laptop', 'Microsoft Surface Laptop 3',\n",
       "       'Microsoft Surface Pro', 'Microsoft Surface Pro X',\n",
       "       'Msi Cyborg 15', 'N4000', 'N550J', 'Nitro 5 An515-54-70Kk', 'P22T',\n",
       "       'Panasonic Toughbook Cf-20', 'Panasonic Toughbook Cf-30',\n",
       "       'Precision 5760 Laptop', 'Precision 7530', 'Precision 7680',\n",
       "       'Precision 7740', 'Razer Blade', 'Ryzen 7 5700U', 'S5 Max',\n",
       "       'Samsung Chromebook', 'Samsung Chromebook 3',\n",
       "       'Samsung Chromebook 4+', 'Samsung Galaxy Chromebook 4K',\n",
       "       'Samsung Series 7', 'Satellite Pro', 'Sgin-M15', 'Sl10W47275',\n",
       "       'Surface Pro 7', 'T460S', 'T470S I5', 'T480', 'T490', 'Thinkpad',\n",
       "       'Thinkpad 11E Chromebook', 'Thinkpad E15', 'Thinkpad L14 Gen2',\n",
       "       'Thinkpad T460P', 'Toshiba Portege X20W-E', 'Ubook X',\n",
       "       'Various Models', 'X15', 'X555La', 'Yoga 11E'], dtype=object)"
      ]
     },
     "execution_count": 187,
     "metadata": {},
     "output_type": "execute_result"
    }
   ],
   "source": [
    "ebay_data_sample['Model'] = ebay_data_sample['Model'].str.title()\n",
    "sort_ebay_sample9 = ebay_data_sample['Model'].unique()\n",
    "sort_ebay_sample9.sort()\n",
    "sort_ebay_sample9"
   ]
  },
  {
   "cell_type": "markdown",
   "metadata": {},
   "source": [
    "This cell of code will go down the array and delete any of the items call, and save the upated list "
   ]
  },
  {
   "cell_type": "code",
   "execution_count": 188,
   "metadata": {},
   "outputs": [],
   "source": [
    "unkown_brand_Ram = ['Core I5','Core I7-1165U','5410','5580','82R''47X83Ua#Aba','Sgin-M15']\n",
    "for item in unkown_brand_Ram:\n",
    "    ebay_data_sample = ebay_data_sample[ebay_data_sample['Model'] != item ]"
   ]
  },
  {
   "cell_type": "markdown",
   "metadata": {},
   "source": [
    "Moving onto the next array to clean, OS, checked to see what infomration was in OS."
   ]
  },
  {
   "cell_type": "code",
   "execution_count": 189,
   "metadata": {},
   "outputs": [
    {
     "data": {
      "text/plain": [
       "array(['Chrome Os', 'Linux', 'Microsoft Windows 10 Professional',\n",
       "       'Microsoft Windows 11', 'Not Included', 'Pop Os',\n",
       "       'Ubuntu/Linux+2Nd Os', 'Win 10 Pro 64', 'Windows 10',\n",
       "       'Windows 10 Home', 'Windows 10 Home 64', 'Windows 10 Pro',\n",
       "       'Windows 10 Professional', 'Windows 11', 'Windows 11 Home',\n",
       "       'Windows 11 Home S', 'Windows 11 Pro', 'Windows 11 S Mode',\n",
       "       'Windows 7', 'Windows 7 Professional', 'Windows Vista',\n",
       "       'Windows Xp', '\\u200eWindows 11 Home'], dtype=object)"
      ]
     },
     "execution_count": 189,
     "metadata": {},
     "output_type": "execute_result"
    }
   ],
   "source": [
    "ebay_data_sample['OS'] = ebay_data_sample['OS'].str.title()\n",
    "sort_ebay_sample10 = ebay_data_sample['OS'].unique()\n",
    "sort_ebay_sample10.sort()\n",
    "sort_ebay_sample10"
   ]
  },
  {
   "cell_type": "markdown",
   "metadata": {},
   "source": [
    "This cell will go down the Array for OS and delete the item ' not included'"
   ]
  },
  {
   "cell_type": "code",
   "execution_count": 190,
   "metadata": {},
   "outputs": [],
   "source": [
    "unkown_brand_Ram = ['Not Included']\n",
    "for item in unkown_brand_Ram:\n",
    "    ebay_data_sample = ebay_data_sample[ebay_data_sample['OS'] != item ]"
   ]
  },
  {
   "cell_type": "markdown",
   "metadata": {},
   "source": [
    "Moving onto the next array to clean, Hard Drive Capacity, checked to see what infomration was in Hard Drive Capacity."
   ]
  },
  {
   "cell_type": "code",
   "execution_count": 191,
   "metadata": {},
   "outputs": [
    {
     "data": {
      "text/plain": [
       "array(['0', '0Gb', '1 Gb', '1 Tb', '12 Gb', '120 Gb',\n",
       "       '120Gb 240Gb 512Gb 1Tb Select From Above', '128 Gb', '128Gb',\n",
       "       '128Gb,  256Gb,  500Gb,  1Tb,  2Tb', '16 Gb', '160 Gb', '1Tb',\n",
       "       '1Tb Nvme', '1Tb Ssd', '2 Tb', '240 Gb', '250 Gb', '256 Gb',\n",
       "       '256 Gb Ssd', '256Gb', '2Tb', '32 Gb', '320 Gb', '32Gb', '4 Gb',\n",
       "       '4 Tb', '500 Gb', '512 Gb', '512 Gb Ssd', '512Gb', '64 Gb', '64Gb',\n",
       "       '8 Gb', \"Don'T Apply\", 'N/A', 'No', 'No Hdd', 'Non',\n",
       "       'Not Applicable', 'Ssd Only', 'Up To 1 Tb', 'Up To 2 Tb',\n",
       "       'Up To 2Tb'], dtype=object)"
      ]
     },
     "execution_count": 191,
     "metadata": {},
     "output_type": "execute_result"
    }
   ],
   "source": [
    "ebay_data_sample['Hard Drive Capacity'] = ebay_data_sample['Hard Drive Capacity'].str.title()\n",
    "sort_ebay_brnd_sample11 = ebay_data_sample['Hard Drive Capacity'].unique()\n",
    "sort_ebay_brnd_sample11.sort()\n",
    "sort_ebay_brnd_sample11"
   ]
  },
  {
   "cell_type": "markdown",
   "metadata": {},
   "source": [
    "Remove any of the Values that are not a HD capicity"
   ]
  },
  {
   "cell_type": "code",
   "execution_count": 192,
   "metadata": {},
   "outputs": [],
   "source": [
    "unkown_brand_Ram = ['0',\"Don'T Apply\",'N/A','No Hdd','Non','Not Applicable','Ssd Only']\n",
    "for item in unkown_brand_Ram:\n",
    "    ebay_data_sample = ebay_data_sample[ebay_data_sample['Hard Drive Capacity'] != item ]"
   ]
  },
  {
   "cell_type": "markdown",
   "metadata": {},
   "source": [
    "Created a function that will go over ever item in the Array, Hard drive cap. and will fix the formating, to ensure there is a space between each integer and unit measurement "
   ]
  },
  {
   "cell_type": "code",
   "execution_count": 193,
   "metadata": {},
   "outputs": [],
   "source": [
    "def format_hard_drive_cap(hard_drive_capacity):\n",
    "    if 'Gb' in hard_drive_capacity:\n",
    "        parts = hard_drive_capacity.split('Gb')[0].strip()  \n",
    "        try:\n",
    "            formatted_capacity = f\"{float(parts):.2f} Gb\"\n",
    "        except ValueError:\n",
    "            return hard_drive_capacity  \n",
    "        return formatted_capacity\n",
    "    \n",
    "    elif 'Tb' in hard_drive_capacity:\n",
    "        parts = hard_drive_capacity.split('Tb')[0].strip()  \n",
    "        try:\n",
    "            formatted_capacity = f\"{float(parts):.2f} Tb\"\n",
    "        except ValueError:\n",
    "            return hard_drive_capacity \n",
    "        return formatted_capacity\n",
    "    \n",
    "    return hard_drive_capacity"
   ]
  },
  {
   "cell_type": "markdown",
   "metadata": {},
   "source": [
    "call and Print out the above functions"
   ]
  },
  {
   "cell_type": "code",
   "execution_count": 194,
   "metadata": {},
   "outputs": [
    {
     "data": {
      "text/plain": [
       "array(['0.00 Gb', '1.00 Gb', '1.00 Tb', '12.00 Gb', '120.00 Gb',\n",
       "       '128.00 Gb', '16.00 Gb', '160.00 Gb', '2.00 Tb', '240.00 Gb',\n",
       "       '250.00 Gb', '256.00 Gb', '32.00 Gb', '320.00 Gb', '4.00 Gb',\n",
       "       '4.00 Tb', '500.00 Gb', '512.00 Gb', '64.00 Gb', '8.00 Gb', 'No',\n",
       "       'Up To 1 Tb', 'Up To 2 Tb', 'Up To 2Tb'], dtype=object)"
      ]
     },
     "execution_count": 194,
     "metadata": {},
     "output_type": "execute_result"
    }
   ],
   "source": [
    "ebay_data_sample['Hard Drive Capacity'] = ebay_data_sample['Hard Drive Capacity'].apply(format_hard_drive_cap)\n",
    "\n",
    "sort_ebay_brnd_sample = ebay_data_sample['Hard Drive Capacity'].unique()\n",
    "sort_ebay_brnd_sample.sort()\n",
    "\n",
    "sort_ebay_brnd_sample"
   ]
  },
  {
   "cell_type": "markdown",
   "metadata": {},
   "source": [
    "Moving onto the next array to clean, Storage Type, checked to see what infomration was in Hard Storage Type."
   ]
  },
  {
   "cell_type": "code",
   "execution_count": 195,
   "metadata": {},
   "outputs": [
    {
     "data": {
      "text/plain": [
       "array(['256 G', 'Emmc', 'Hdd (Hard Disk Drive)', 'Hdd + Ssd', 'Nvme',\n",
       "       'Nvme M.2', 'Solid State Drive (Ssd)', 'Ssd',\n",
       "       'Ssd (Solid State Drive)', 'Ssd + Emmc', 'Ssd + Hdd'], dtype=object)"
      ]
     },
     "execution_count": 195,
     "metadata": {},
     "output_type": "execute_result"
    }
   ],
   "source": [
    "ebay_data_sample['Storage Type'] = ebay_data_sample['Storage Type'].str.title()\n",
    "sort_ebay_brnd_sample12 = ebay_data_sample['Storage Type'].unique()\n",
    "sort_ebay_brnd_sample12.sort()\n",
    "sort_ebay_brnd_sample12"
   ]
  },
  {
   "cell_type": "markdown",
   "metadata": {},
   "source": [
    "create a function that has a library with key values pairs that will go over all the items in Storage Type and assign them the correct short hand to stay consident with naming and formatting."
   ]
  },
  {
   "cell_type": "code",
   "execution_count": 196,
   "metadata": {},
   "outputs": [
    {
     "data": {
      "text/plain": [
       "array(['256 G', 'Emmc', 'HDD', 'HDD + SSD', 'Nvme', 'Nvme M.2', 'SSD',\n",
       "       'Ssd + Hdd'], dtype=object)"
      ]
     },
     "execution_count": 196,
     "metadata": {},
     "output_type": "execute_result"
    }
   ],
   "source": [
    "def format_storage_type(storage_type):\n",
    "\n",
    "    storage_mapping = {\n",
    "        'Emmc': 'Emmc',\n",
    "        'Hdd (Hard Disk Drive)': 'HDD',\n",
    "        'Hdd + Ssd': 'HDD + SSD',\n",
    "        'Solid State Drive (Ssd)': 'SSD',\n",
    "        'Ssd': 'SSD',\n",
    "        'Ssd (Solid State Drive)': 'SSD',\n",
    "        'Nvme M.2': 'Nvme M.2',\n",
    "        'Ssd + Emmc': 'SSD'\n",
    "    }\n",
    "    \n",
    "    return storage_mapping.get(storage_type, storage_type)\n",
    "\n",
    "ebay_data_sample['Storage Type'] = ebay_data_sample['Storage Type'].apply(format_storage_type)\n",
    "\n",
    "\n",
    "ebay_data_sample12 = ebay_data_sample['Storage Type'].unique()\n",
    "ebay_data_sample12.sort()\n",
    "\n",
    "ebay_data_sample12"
   ]
  },
  {
   "cell_type": "markdown",
   "metadata": {},
   "source": [
    "Moving onto the next array to clean, Condition, checked to see what infomration was in Condition."
   ]
  },
  {
   "cell_type": "code",
   "execution_count": 197,
   "metadata": {},
   "outputs": [
    {
     "data": {
      "text/plain": [
       "array([\"Certified - Refurbishedthe Item Is In Pristine, Like-New Condition. It Has Been Professionally Inspected, Cleaned, And Refurbished By The Manufacturer Or A Manufacturer-Approved Vendor To Meet Manufacturer Specifications. The Item Will Be In New Packaging With Original Or New Accessories. See The Seller'S Listing For Full Details. See All Condition Definitionsopens In A New Window Or Tab\",\n",
       "       \"Excellent - Refurbished: The Item Is In Like-New Condition, Backed By A One Year Warranty. It Has ...  Read Moreabout The Conditionexcellent - Refurbished: The Item Is In Like-New Condition, Backed By A One Year Warranty. It Has Been Professionally Refurbished, Inspected And Cleaned To Excellent Condition By Qualified Sellers. The Item Includes Original Or New Accessories And Will Come In New Generic Packaging. See The Seller'S Listing For Full Details. See All Condition Definitionsopens In A New Window Or Tab \",\n",
       "       \"Excellent - Refurbishedthe Item Is In Like-New Condition, Backed By A One Year Warranty. It Has Been Professionally Refurbished, Inspected And Cleaned To Excellent Condition By Qualified Sellers. The Item Includes Original Or New Accessories And Will Come In New Generic Packaging. See The Seller'S Listing For Full Details. See All Condition Definitionsopens In A New Window Or Tab\",\n",
       "       'For Parts Or Not Working: An Item That Does Not Function As Intended And Is Not Fully Operational. ...  Read Moreabout The Conditionfor Parts Or Not Working: An Item That Does Not Function As Intended And Is Not Fully Operational. This Includes Items That Are Defective In Ways That Render Them Difficult To Use, Items That Require Service Or Repair, Or Items Missing Essential Components. See The Seller’S Listing For Full Details. See All Condition Definitionsopens In A New Window Or Tab ',\n",
       "       'For Parts Or Not Workingan Item That Does Not Function As Intended And Is Not Fully Operational. This Includes Items That Are Defective In Ways That Render Them Difficult To Use, Items That Require Service Or Repair, Or Items Missing Essential Components. See The Seller’S Listing For Full Details. See All Condition Definitionsopens In A New Window Or Tab',\n",
       "       \"Good - Refurbished: The Item Shows Moderate Wear And Is Backed By A One Year Warranty. It Is Fully ...  Read Moreabout The Conditiongood - Refurbished: The Item Shows Moderate Wear And Is Backed By A One Year Warranty. It Is Fully Functional And Has Been Professionally Refurbished, Inspected And Cleaned To Good Condition By Qualified Sellers. The Item Includes Original Or New Accessories And Will Come In A New Generic Packaging. See The Seller'S Listing For Full Details. See All Condition Definitionsopens In A New Window Or Tab \",\n",
       "       \"Good - Refurbishedthe Item Shows Moderate Wear And Is Backed By A One Year Warranty. It Is Fully Functional And Has Been Professionally Refurbished, Inspected And Cleaned To Good Condition By Qualified Sellers. The Item Includes Original Or New Accessories And Will Come In A New Generic Packaging. See The Seller'S Listing For Full Details. See All Condition Definitionsopens In A New Window Or Tab\",\n",
       "       \"New: A Brand-New, Unused, Unopened, Undamaged Item In Its Original Packaging (Where Packaging Is ...  Read Moreabout The Conditionnew: A Brand-New, Unused, Unopened, Undamaged Item In Its Original Packaging (Where Packaging Is Applicable). Packaging Should Be The Same As What Is Found In A Retail Store, Unless The Item Is Handmade Or Was Packaged By The Manufacturer In Non-Retail Packaging, Such As An Unprinted Box Or Plastic Bag. See The Seller'S Listing For Full Details. See All Condition Definitionsopens In A New Window Or Tab \",\n",
       "       \"Open Box: An Item In Excellent, New Condition With No Wear. The Item May Be Missing The Original ...  Read Moreabout The Conditionopen Box: An Item In Excellent, New Condition With No Wear. The Item May Be Missing The Original Packaging Or Protective Wrapping, Or May Be In The Original Packaging But Not Sealed. The Item Includes Original Accessories. The Item May Be A Factory Second. See The Seller'S Listing For Full Details And Description. See All Condition Definitionsopens In A New Window Or Tab \",\n",
       "       \"Open Boxan Item In Excellent, New Condition With No Wear. The Item May Be Missing The Original Packaging Or Protective Wrapping, Or May Be In The Original Packaging But Not Sealed. The Item Includes Original Accessories. The Item May Be A Factory Second. See The Seller'S Listing For Full Details And Description. See All Condition Definitionsopens In A New Window Or Tab\",\n",
       "       'Used: An Item That Has Been Used Previously. The Item May Have Some Signs Of Cosmetic Wear, But Is ...  Read Moreabout The Conditionused: An Item That Has Been Used Previously. The Item May Have Some Signs Of Cosmetic Wear, But Is Fully Operational And Functions As Intended. This Item May Be A Floor Model Or Store Return That Has Been Used. See The Seller’S Listing For Full Details And Description Of Any Imperfections. See All Condition Definitionsopens In A New Window Or Tab ',\n",
       "       'Usedan Item That Has Been Used Previously. The Item May Have Some Signs Of Cosmetic Wear, But Is Fully Operational And Functions As Intended. This Item May Be A Floor Model Or Store Return That Has Been Used. See The Seller’S Listing For Full Details And Description Of Any Imperfections. See All Condition Definitionsopens In A New Window Or Tab',\n",
       "       \"Very Good - Refurbished: The Item Shows Minimal Wear And Is Backed By A One Year Warranty. It Is ...  Read Moreabout The Conditionvery Good - Refurbished: The Item Shows Minimal Wear And Is Backed By A One Year Warranty. It Is Fully Functional And Has Been Professionally Refurbished,  Inspected And Cleaned To Very Good Condition By Qualified Sellers. The Item Includes Original Or New Accessories And Will Come In New Generic Packaging. See The Seller'S Listing For Full Details. See All Condition Definitionsopens In A New Window Or Tab \",\n",
       "       \"Very Good - Refurbishedthe Item Shows Minimal Wear And Is Backed By A One Year Warranty. It Is Fully Functional And Has Been Professionally Refurbished,  Inspected And Cleaned To Very Good Condition By Qualified Sellers. The Item Includes Original Or New Accessories And Will Come In New Generic Packaging. See The Seller'S Listing For Full Details. See All Condition Definitionsopens In A New Window Or Tab\"],\n",
       "      dtype=object)"
      ]
     },
     "execution_count": 197,
     "metadata": {},
     "output_type": "execute_result"
    }
   ],
   "source": [
    "ebay_data_sample['Condition'] = ebay_data_sample['Condition'].str.title()\n",
    "sort_ebay_brnd_sample13 = ebay_data_sample['Condition'].unique()\n",
    "sort_ebay_brnd_sample13.sort()\n",
    "sort_ebay_brnd_sample13"
   ]
  },
  {
   "cell_type": "markdown",
   "metadata": {},
   "source": [
    "Create a for loop where the if will go down the entire array and pick out key words in each item and assign it a one word corrasponding word to clean the data and make it easier on the eyes "
   ]
  },
  {
   "cell_type": "code",
   "execution_count": 198,
   "metadata": {},
   "outputs": [
    {
     "name": "stdout",
     "output_type": "stream",
     "text": [
      "['Damaged' 'Excellent' 'Good' 'New']\n"
     ]
    }
   ],
   "source": [
    "ebay_data_sample['Condition'] = ebay_data_sample['Condition'].str.title()\n",
    "\n",
    "cleaned_conditions = []\n",
    "\n",
    "for description in ebay_data_sample['Condition']:\n",
    "    if \"good\" in description.lower():\n",
    "        cleaned_conditions.append(\"Good\")\n",
    "    elif \"damaged\" in description.lower():\n",
    "        cleaned_conditions.append(\"Damaged\")\n",
    "    elif \"excellent\" in description.lower():\n",
    "        cleaned_conditions.append(\"Excellent\")\n",
    "    elif \"new\" in description.lower():\n",
    "        cleaned_conditions.append(\"New\")\n",
    "    elif \"for parts\" in description.lower() or \"not working\" in description.lower():\n",
    "        cleaned_conditions.append(\"For Parts or Not Working\")\n",
    "    else:\n",
    "        cleaned_conditions.append(\"Unknown Condition\") \n",
    "\n",
    "ebay_data_sample['Condition'] = cleaned_conditions\n",
    "\n",
    "sort_ebay_brnd_sample13 = ebay_data_sample['Condition'].unique()\n",
    "sort_ebay_brnd_sample13.sort()\n",
    "\n",
    "print(sort_ebay_brnd_sample13)"
   ]
  },
  {
   "cell_type": "markdown",
   "metadata": {},
   "source": [
    "Check to see if there are any issues with the Data thus far"
   ]
  },
  {
   "cell_type": "code",
   "execution_count": 199,
   "metadata": {},
   "outputs": [
    {
     "data": {
      "text/html": [
       "<div>\n",
       "<style scoped>\n",
       "    .dataframe tbody tr th:only-of-type {\n",
       "        vertical-align: middle;\n",
       "    }\n",
       "\n",
       "    .dataframe tbody tr th {\n",
       "        vertical-align: top;\n",
       "    }\n",
       "\n",
       "    .dataframe thead th {\n",
       "        text-align: right;\n",
       "    }\n",
       "</style>\n",
       "<table border=\"1\" class=\"dataframe\">\n",
       "  <thead>\n",
       "    <tr style=\"text-align: right;\">\n",
       "      <th></th>\n",
       "      <th>Item Number</th>\n",
       "      <th>Brand</th>\n",
       "      <th>Processor</th>\n",
       "      <th>Screen Size</th>\n",
       "      <th>Ram Size</th>\n",
       "      <th>SSD Capacity</th>\n",
       "      <th>GPU</th>\n",
       "      <th>Processor Speed</th>\n",
       "      <th>Type</th>\n",
       "      <th>Maximum Resolution</th>\n",
       "      <th>Model</th>\n",
       "      <th>OS</th>\n",
       "      <th>Hard Drive Capacity</th>\n",
       "      <th>Storage Type</th>\n",
       "      <th>Condition</th>\n",
       "      <th>Price</th>\n",
       "    </tr>\n",
       "  </thead>\n",
       "  <tbody>\n",
       "    <tr>\n",
       "      <th>0</th>\n",
       "      <td>85264981001</td>\n",
       "      <td>Chuwi</td>\n",
       "      <td>Quad Core</td>\n",
       "      <td>14 In</td>\n",
       "      <td>8 Gb</td>\n",
       "      <td>1 Used,  1 Support Max 1Tb M.2 Extend</td>\n",
       "      <td>Intel Iris Plus Graphics 655</td>\n",
       "      <td>Max up to 3.80 GHz</td>\n",
       "      <td>Laptop</td>\n",
       "      <td>2160 X 1440</td>\n",
       "      <td>Corebook X</td>\n",
       "      <td>Windows 11 Home</td>\n",
       "      <td>512.00 Gb</td>\n",
       "      <td>SSD</td>\n",
       "      <td>Damaged</td>\n",
       "      <td>$303.68</td>\n",
       "    </tr>\n",
       "    <tr>\n",
       "      <th>2</th>\n",
       "      <td>85264981003</td>\n",
       "      <td>Dell</td>\n",
       "      <td>Intel Core I5-6300U</td>\n",
       "      <td>14 In</td>\n",
       "      <td>16 Gb</td>\n",
       "      <td>500 Gb</td>\n",
       "      <td>Intel Hd Graphics</td>\n",
       "      <td>2.40 GHz</td>\n",
       "      <td>Laptop</td>\n",
       "      <td>1920 X 1080</td>\n",
       "      <td>Dell Latitude E5470</td>\n",
       "      <td>Windows 10 Pro</td>\n",
       "      <td>500.00 Gb</td>\n",
       "      <td>SSD</td>\n",
       "      <td>New</td>\n",
       "      <td>$175.00</td>\n",
       "    </tr>\n",
       "    <tr>\n",
       "      <th>13</th>\n",
       "      <td>85264981014</td>\n",
       "      <td>Chuwi</td>\n",
       "      <td>Intel Celeron Processor N4100</td>\n",
       "      <td>14.1 In</td>\n",
       "      <td>8 Gb</td>\n",
       "      <td>256 Gb</td>\n",
       "      <td>Intel Uhd Graphics 600, 650Mhz</td>\n",
       "      <td>2.80 GHz</td>\n",
       "      <td>Laptop</td>\n",
       "      <td>1920 X 1080</td>\n",
       "      <td>Chuwi Lapbook Pro</td>\n",
       "      <td>Windows 11 Home</td>\n",
       "      <td>256.00 Gb</td>\n",
       "      <td>SSD</td>\n",
       "      <td>Damaged</td>\n",
       "      <td>$151.99</td>\n",
       "    </tr>\n",
       "    <tr>\n",
       "      <th>14</th>\n",
       "      <td>85264981015</td>\n",
       "      <td>Chuwi</td>\n",
       "      <td>Intel Core I5-8259U</td>\n",
       "      <td>14 In</td>\n",
       "      <td>8 Gb</td>\n",
       "      <td>512 Gb</td>\n",
       "      <td>Intel Iris Plus Graphics 655</td>\n",
       "      <td>3.80 GHz</td>\n",
       "      <td>Laptop</td>\n",
       "      <td>2160 X 1440</td>\n",
       "      <td>Chuwi Corebook X</td>\n",
       "      <td>Windows 10</td>\n",
       "      <td>512.00 Gb</td>\n",
       "      <td>HDD + SSD</td>\n",
       "      <td>Damaged</td>\n",
       "      <td>$243.99</td>\n",
       "    </tr>\n",
       "    <tr>\n",
       "      <th>17</th>\n",
       "      <td>85264981018</td>\n",
       "      <td>Dell</td>\n",
       "      <td>Intel Celeron</td>\n",
       "      <td>11 In</td>\n",
       "      <td>4 Gb</td>\n",
       "      <td>128 Gb</td>\n",
       "      <td>Intel Uhd Graphics 600</td>\n",
       "      <td>1.10 GHz</td>\n",
       "      <td>Laptop</td>\n",
       "      <td>1366 X 768</td>\n",
       "      <td>Dell Latitude 3189</td>\n",
       "      <td>Windows 10 Pro</td>\n",
       "      <td>128.00 Gb</td>\n",
       "      <td>SSD</td>\n",
       "      <td>New</td>\n",
       "      <td>$129.99</td>\n",
       "    </tr>\n",
       "    <tr>\n",
       "      <th>...</th>\n",
       "      <td>...</td>\n",
       "      <td>...</td>\n",
       "      <td>...</td>\n",
       "      <td>...</td>\n",
       "      <td>...</td>\n",
       "      <td>...</td>\n",
       "      <td>...</td>\n",
       "      <td>...</td>\n",
       "      <td>...</td>\n",
       "      <td>...</td>\n",
       "      <td>...</td>\n",
       "      <td>...</td>\n",
       "      <td>...</td>\n",
       "      <td>...</td>\n",
       "      <td>...</td>\n",
       "      <td>...</td>\n",
       "    </tr>\n",
       "    <tr>\n",
       "      <th>6336</th>\n",
       "      <td>85264987127</td>\n",
       "      <td>Asus</td>\n",
       "      <td>Amd Ryzen 7 5800Hs</td>\n",
       "      <td>16 In</td>\n",
       "      <td>16 Gb</td>\n",
       "      <td>1 Tb</td>\n",
       "      <td>Amd Radeon Graphics</td>\n",
       "      <td>Up to 4.4GHz</td>\n",
       "      <td>Laptop</td>\n",
       "      <td>1920 X 1200</td>\n",
       "      <td>Asus Vivobook</td>\n",
       "      <td>Windows 11 Home</td>\n",
       "      <td>1.00 Tb</td>\n",
       "      <td>SSD</td>\n",
       "      <td>Damaged</td>\n",
       "      <td>$609.00</td>\n",
       "    </tr>\n",
       "    <tr>\n",
       "      <th>6345</th>\n",
       "      <td>85264987136</td>\n",
       "      <td>Lenovo</td>\n",
       "      <td>Amd Ryzen 5</td>\n",
       "      <td>14 In</td>\n",
       "      <td>16 Gb</td>\n",
       "      <td>256 Gb</td>\n",
       "      <td>Amd Radeon Graphics</td>\n",
       "      <td>2.30 GHz</td>\n",
       "      <td>Laptop</td>\n",
       "      <td>1920 X 1080</td>\n",
       "      <td>Lenovo Thinkpad T14</td>\n",
       "      <td>Windows 10 Pro</td>\n",
       "      <td>256.00 Gb</td>\n",
       "      <td>SSD</td>\n",
       "      <td>Damaged</td>\n",
       "      <td>$499.99</td>\n",
       "    </tr>\n",
       "    <tr>\n",
       "      <th>6348</th>\n",
       "      <td>85264987139</td>\n",
       "      <td>Lenovo</td>\n",
       "      <td>Intel Core I5-1135G7</td>\n",
       "      <td>15.6 In</td>\n",
       "      <td>20 Gb</td>\n",
       "      <td>1 Tb</td>\n",
       "      <td>Intel Iris Xe Graphics</td>\n",
       "      <td>Up to 4.20GHz</td>\n",
       "      <td>Laptop</td>\n",
       "      <td>1920 X 1080</td>\n",
       "      <td>Lenovo Ideapad 3I</td>\n",
       "      <td>Windows 11 Home</td>\n",
       "      <td>1.00 Tb</td>\n",
       "      <td>SSD</td>\n",
       "      <td>Damaged</td>\n",
       "      <td>$599.00</td>\n",
       "    </tr>\n",
       "    <tr>\n",
       "      <th>6393</th>\n",
       "      <td>85264987184</td>\n",
       "      <td>Hp</td>\n",
       "      <td>Intel Core I5 11Th Gen.</td>\n",
       "      <td>15.6 In</td>\n",
       "      <td>8 Gb</td>\n",
       "      <td>256 Gb</td>\n",
       "      <td>Intel Iris Xe Graphics</td>\n",
       "      <td>2.40 GHz</td>\n",
       "      <td>Laptop</td>\n",
       "      <td>1920 X 1080</td>\n",
       "      <td>15-Dy2795Wm</td>\n",
       "      <td>‎Windows 11 Home</td>\n",
       "      <td>256.00 Gb</td>\n",
       "      <td>SSD</td>\n",
       "      <td>Damaged</td>\n",
       "      <td>$389.95</td>\n",
       "    </tr>\n",
       "    <tr>\n",
       "      <th>6679</th>\n",
       "      <td>85264987452</td>\n",
       "      <td>Asus</td>\n",
       "      <td>Intel Celeron N</td>\n",
       "      <td>11.6 In</td>\n",
       "      <td>4 Gb</td>\n",
       "      <td>64 Gb</td>\n",
       "      <td>Intel Uhd Graphics 600</td>\n",
       "      <td>1.1 GHz</td>\n",
       "      <td>Laptop</td>\n",
       "      <td>1366 X 768</td>\n",
       "      <td>Asus E210</td>\n",
       "      <td>Windows 11 Home</td>\n",
       "      <td>64.00 Gb</td>\n",
       "      <td>Emmc</td>\n",
       "      <td>New</td>\n",
       "      <td>$101.36</td>\n",
       "    </tr>\n",
       "  </tbody>\n",
       "</table>\n",
       "<p>464 rows × 16 columns</p>\n",
       "</div>"
      ],
      "text/plain": [
       "      Item Number   Brand                      Processor Screen Size Ram Size  \\\n",
       "0     85264981001   Chuwi                      Quad Core       14 In     8 Gb   \n",
       "2     85264981003    Dell            Intel Core I5-6300U       14 In    16 Gb   \n",
       "13    85264981014   Chuwi  Intel Celeron Processor N4100     14.1 In     8 Gb   \n",
       "14    85264981015   Chuwi            Intel Core I5-8259U       14 In     8 Gb   \n",
       "17    85264981018    Dell                  Intel Celeron       11 In     4 Gb   \n",
       "...           ...     ...                            ...         ...      ...   \n",
       "6336  85264987127    Asus             Amd Ryzen 7 5800Hs       16 In    16 Gb   \n",
       "6345  85264987136  Lenovo                    Amd Ryzen 5       14 In    16 Gb   \n",
       "6348  85264987139  Lenovo           Intel Core I5-1135G7     15.6 In    20 Gb   \n",
       "6393  85264987184      Hp        Intel Core I5 11Th Gen.     15.6 In     8 Gb   \n",
       "6679  85264987452    Asus                Intel Celeron N     11.6 In     4 Gb   \n",
       "\n",
       "                               SSD Capacity                             GPU  \\\n",
       "0     1 Used,  1 Support Max 1Tb M.2 Extend    Intel Iris Plus Graphics 655   \n",
       "2                                    500 Gb               Intel Hd Graphics   \n",
       "13                                   256 Gb  Intel Uhd Graphics 600, 650Mhz   \n",
       "14                                   512 Gb    Intel Iris Plus Graphics 655   \n",
       "17                                   128 Gb          Intel Uhd Graphics 600   \n",
       "...                                     ...                             ...   \n",
       "6336                                   1 Tb             Amd Radeon Graphics   \n",
       "6345                                 256 Gb             Amd Radeon Graphics   \n",
       "6348                                   1 Tb          Intel Iris Xe Graphics   \n",
       "6393                                 256 Gb          Intel Iris Xe Graphics   \n",
       "6679                                  64 Gb          Intel Uhd Graphics 600   \n",
       "\n",
       "         Processor Speed    Type Maximum Resolution                Model  \\\n",
       "0     Max up to 3.80 GHz  Laptop        2160 X 1440           Corebook X   \n",
       "2               2.40 GHz  Laptop        1920 X 1080  Dell Latitude E5470   \n",
       "13              2.80 GHz  Laptop        1920 X 1080    Chuwi Lapbook Pro   \n",
       "14              3.80 GHz  Laptop        2160 X 1440     Chuwi Corebook X   \n",
       "17              1.10 GHz  Laptop         1366 X 768   Dell Latitude 3189   \n",
       "...                  ...     ...                ...                  ...   \n",
       "6336        Up to 4.4GHz  Laptop        1920 X 1200        Asus Vivobook   \n",
       "6345            2.30 GHz  Laptop        1920 X 1080  Lenovo Thinkpad T14   \n",
       "6348       Up to 4.20GHz  Laptop        1920 X 1080    Lenovo Ideapad 3I   \n",
       "6393            2.40 GHz  Laptop        1920 X 1080          15-Dy2795Wm   \n",
       "6679             1.1 GHz  Laptop         1366 X 768            Asus E210   \n",
       "\n",
       "                    OS Hard Drive Capacity Storage Type Condition     Price  \n",
       "0      Windows 11 Home           512.00 Gb          SSD   Damaged  $303.68   \n",
       "2       Windows 10 Pro           500.00 Gb          SSD       New  $175.00   \n",
       "13     Windows 11 Home           256.00 Gb          SSD   Damaged  $151.99   \n",
       "14          Windows 10           512.00 Gb    HDD + SSD   Damaged  $243.99   \n",
       "17      Windows 10 Pro           128.00 Gb          SSD       New  $129.99   \n",
       "...                ...                 ...          ...       ...       ...  \n",
       "6336   Windows 11 Home             1.00 Tb          SSD   Damaged  $609.00   \n",
       "6345    Windows 10 Pro           256.00 Gb          SSD   Damaged  $499.99   \n",
       "6348   Windows 11 Home             1.00 Tb          SSD   Damaged  $599.00   \n",
       "6393  ‎Windows 11 Home           256.00 Gb          SSD   Damaged  $389.95   \n",
       "6679   Windows 11 Home            64.00 Gb         Emmc       New  $101.36   \n",
       "\n",
       "[464 rows x 16 columns]"
      ]
     },
     "execution_count": 199,
     "metadata": {},
     "output_type": "execute_result"
    }
   ],
   "source": [
    "ebay_data_sample"
   ]
  },
  {
   "cell_type": "markdown",
   "metadata": {},
   "source": [
    "Finally onto the Last array to clean, Price, checked to see what infomration was in Price. Unpon Review there was not anything to clean meaning I can move onto packing up the Data set "
   ]
  },
  {
   "cell_type": "code",
   "execution_count": 200,
   "metadata": {},
   "outputs": [
    {
     "data": {
      "text/plain": [
       "array(['$1,049.99 ', '$1,149.49 ', '$1,200.00 ', '$1,249.99 ',\n",
       "       '$1,329.99 ', '$1,449.99 ', '$1,482.83 ', '$1,799.99 ',\n",
       "       '$1,899.99 ', '$100.00 ', '$101.36 ', '$104.99 ', '$109.99 ',\n",
       "       '$110.00 ', '$110.95 ', '$114.99 ', '$115.00 ', '$119.00 ',\n",
       "       '$119.99 ', '$120.00 ', '$124.00 ', '$124.90 ', '$125.00 ',\n",
       "       '$128.99 ', '$129.95 ', '$129.99 ', '$133.99 ', '$135.00 ',\n",
       "       '$139.99 ', '$140.00 ', '$141.00 ', '$149.00 ', '$149.99 ',\n",
       "       '$150.00 ', '$151.99 ', '$154.00 ', '$154.99 ', '$155.00 ',\n",
       "       '$159.99 ', '$164.49 To $442.88', '$164.95 ', '$166.96 ',\n",
       "       '$169.95 ', '$170.00 ', '$172.00 ', '$174.99 ', '$175.00 ',\n",
       "       '$179.50 ', '$179.99 ', '$180.00 ', '$187.77 ', '$187.93 ',\n",
       "       '$187.99 ', '$188.81 ', '$189.00 ', '$189.99 ', '$190.00 ',\n",
       "       '$192.00 To $203.05', '$192.99 ', '$193.00 ', '$199.00 ',\n",
       "       '$199.88 ', '$199.99 ', '$2,339.00 ', '$200.00 ', '$202.45 ',\n",
       "       '$21.95 ', '$219.99 ', '$220.00 ', '$224.95 ', '$225.00 ',\n",
       "       '$229.99 ', '$231.00 ', '$239.00 ', '$239.16 ',\n",
       "       '$239.95 To $909.95', '$239.98 ', '$241.99 ', '$243.00 ',\n",
       "       '$243.99 ', '$245.00 ', '$249.00 ', '$249.95 ', '$249.99 ',\n",
       "       '$25.50 ', '$255.00 ', '$256.49 ', '$259.00 ', '$259.84 ',\n",
       "       '$269.49 ', '$275.00 ', '$279.00 ', '$279.99 ', '$280.00 ',\n",
       "       '$284.05 ', '$287.12 ', '$289.00 To $479.00', '$289.99 ',\n",
       "       '$295.00 ', '$296.27 ', '$299.00 ', '$299.99 ',\n",
       "       '$299.99 To $309.99', '$300.00 ', '$303.68 ', '$314.95 ',\n",
       "       '$319.99 ', '$32.99 ', '$320.00 ', '$323.99 To $344.99',\n",
       "       '$324.99 To $799.99', '$325.00 ', '$329.49 ', '$329.95 ',\n",
       "       '$329.99 ', '$334.99 ', '$339.99 ', '$344.99 ', '$349.95 ',\n",
       "       '$349.99 ', '$35.00 ', '$350.00 ', '$360.00 ', '$362.00 ',\n",
       "       '$362.26 ', '$362.50 ', '$369.00 ', '$369.95 ', '$369.99 ',\n",
       "       '$37.95 ', '$375.00 ', '$379.00 ', '$379.95 ', '$379.99 ',\n",
       "       '$38.00 ', '$389.00 ', '$389.95 ', '$39.00 ', '$39.95 ', '$39.99 ',\n",
       "       '$395.00 ', '$399.00 ', '$399.99 ', '$40.00 ', '$40.46 ',\n",
       "       '$400.00 ', '$41.00 ', '$415.00 ', '$419.99 ', '$42.99 ',\n",
       "       '$425.00 ', '$429.00 To $579.00', '$429.99 ', '$435.00 ',\n",
       "       '$439.00 To $629.00', '$44.00 ', '$444.18 ', '$449.99 ', '$45.00 ',\n",
       "       '$450.00 ', '$454.37 ', '$455.00 ', '$47.00 ', '$48.00 ',\n",
       "       '$48.99 ', '$489.00 ', '$489.99 ', '$49.00 ', '$49.50 ', '$49.99 ',\n",
       "       '$49.99 To $104.99', '$494.99 ', '$499.99 ', '$50.62 ', '$500.00 ',\n",
       "       '$509.99 ', '$51.00 ', '$510.00 ', '$519.99 ', '$52.99 ',\n",
       "       '$524.95 ', '$528.88 ', '$538.99 ', '$54.00 ', '$549.95 ',\n",
       "       '$55.00 ', '$559.00 To $779.00', '$56.00 ', '$56.99 ', '$57.99 ',\n",
       "       '$59.95 ', '$599.00 ', '$599.99 ', '$600.00 ', '$609.00 ',\n",
       "       '$616.40 ', '$62.95 ', '$629.00 ', '$645.00 ', '$649.49 ',\n",
       "       '$649.99 ', '$660.19 ', '$668.00 ', '$669.00 ', '$69.99 ',\n",
       "       '$699.00 To $1,089.00', '$699.00 To $919.00', '$699.95 ',\n",
       "       '$699.99 ', '$709.99 ', '$74.99 ', '$780.00 To $1,280.00',\n",
       "       '$79.99 ', '$799.99 ', '$819.99 ', '$825.00 ', '$834.51 ',\n",
       "       '$84.99 ', '$85.00 ', '$888.88 ', '$89.99 ', '$919.00 ', '$93.00 ',\n",
       "       '$94.94 ', '$94.99 ', '$959.99 ', '$96.99 ', '$98.00 ', '$99.00 ',\n",
       "       '$99.99 '], dtype=object)"
      ]
     },
     "execution_count": 200,
     "metadata": {},
     "output_type": "execute_result"
    }
   ],
   "source": [
    "ebay_data_sample['Price'] = ebay_data_sample['Price'].str.title()\n",
    "sort_ebay_brnd_sample14 = ebay_data_sample['Price'].unique()\n",
    "sort_ebay_brnd_sample14.sort()\n",
    "sort_ebay_brnd_sample14"
   ]
  },
  {
   "cell_type": "code",
   "execution_count": 201,
   "metadata": {},
   "outputs": [
    {
     "name": "stdout",
     "output_type": "stream",
     "text": [
      "Total duplicates: 39\n",
      "Duplicate rows:\n",
      "      Item Number      Brand                Processor Screen Size Ram Size  \\\n",
      "67    85264981066         Hp   Intel Core I5 8Th Gen.       14 In    32 Gb   \n",
      "75    85264981070       Dell   Intel Core I5 6Th Gen.       14 In     8 Gb   \n",
      "79    85264981072       Sgin            Intel Celeron     15.6 In    12 Gb   \n",
      "87    85264981076     Lenovo   Intel Core I7 6Th Gen.     14.1In.    16 Gb   \n",
      "271   85264981066         Hp   Intel Core I5 8Th Gen.       14 In    32 Gb   \n",
      "272   85264981066         Hp   Intel Core I5 8Th Gen.       14 In    32 Gb   \n",
      "279   85264981070       Dell   Intel Core I5 6Th Gen.       14 In     8 Gb   \n",
      "280   85264981070       Dell   Intel Core I5 6Th Gen.       14 In     8 Gb   \n",
      "283   85264981072       Sgin            Intel Celeron     15.6 In    12 Gb   \n",
      "284   85264981072       Sgin            Intel Celeron     15.6 In    12 Gb   \n",
      "291   85264981076     Lenovo   Intel Core I7 6Th Gen.     14.1In.    16 Gb   \n",
      "292   85264981076     Lenovo   Intel Core I7 6Th Gen.     14.1In.    16 Gb   \n",
      "640   85264981577     Lenovo  Intel Core I3 12Th Gen.     15.6 In     8 Gb   \n",
      "646   85264981580       Dell   Intel Core I7 8Th Gen.       14 In    32 Gb   \n",
      "680   85264981597         Hp            Intel Pentium     17.3 In    12 Gb   \n",
      "694   85264981604  Microsoft  Intel Core I5 10Th Gen.     13.5 In     8 Gb   \n",
      "696   85264981605         Hp   Intel Core I7 8Th Gen.       14 In     8 Gb   \n",
      "752   85264981577     Lenovo  Intel Core I3 12Th Gen.     15.6 In     8 Gb   \n",
      "753   85264981577     Lenovo  Intel Core I3 12Th Gen.     15.6 In     8 Gb   \n",
      "758   85264981580       Dell   Intel Core I7 8Th Gen.       14 In    32 Gb   \n",
      "759   85264981580       Dell   Intel Core I7 8Th Gen.       14 In    32 Gb   \n",
      "792   85264981597         Hp            Intel Pentium     17.3 In    12 Gb   \n",
      "793   85264981597         Hp            Intel Pentium     17.3 In    12 Gb   \n",
      "806   85264981604  Microsoft  Intel Core I5 10Th Gen.     13.5 In     8 Gb   \n",
      "807   85264981604  Microsoft  Intel Core I5 10Th Gen.     13.5 In     8 Gb   \n",
      "808   85264981605         Hp   Intel Core I7 8Th Gen.       14 In     8 Gb   \n",
      "809   85264981605         Hp   Intel Core I7 8Th Gen.       14 In     8 Gb   \n",
      "2831  85264983698     Lenovo  Intel Core I7 12Th Gen.     16.0 In    16 Gb   \n",
      "2841  85264983703     Lenovo     11 Gen Intel Core I3       14 In     8 Gb   \n",
      "2845  85264983705    Gateway  Intel Core I5 11Th Gen.     14.1 In    16 Gb   \n",
      "2861  85264983713       Dell   Intel Core I7 8Th Gen.     15.6 In   512 Gb   \n",
      "5307  85264983698     Lenovo  Intel Core I7 12Th Gen.     16.0 In    16 Gb   \n",
      "5308  85264983698     Lenovo  Intel Core I7 12Th Gen.     16.0 In    16 Gb   \n",
      "5317  85264983703     Lenovo     11 Gen Intel Core I3       14 In     8 Gb   \n",
      "5318  85264983703     Lenovo     11 Gen Intel Core I3       14 In     8 Gb   \n",
      "5321  85264983705    Gateway  Intel Core I5 11Th Gen.     14.1 In    16 Gb   \n",
      "5322  85264983705    Gateway  Intel Core I5 11Th Gen.     14.1 In    16 Gb   \n",
      "5337  85264983713       Dell   Intel Core I7 8Th Gen.     15.6 In   512 Gb   \n",
      "5338  85264983713       Dell   Intel Core I7 8Th Gen.     15.6 In   512 Gb   \n",
      "\n",
      "     SSD Capacity                     GPU Processor Speed    Type  \\\n",
      "67         500 Gb  Intel Uhd Graphics 620        2.60 GHz  Laptop   \n",
      "75         256 Gb       Intel Hd Graphics        2.40 GHz  Laptop   \n",
      "79         512 Gb     Amd Radeon Graphics        2.80 GHz  Laptop   \n",
      "87         512 Gb   Intel Hd Graphics 520        2.60 GHz  Laptop   \n",
      "271        500 Gb  Intel Uhd Graphics 620        2.60 GHz  Laptop   \n",
      "272        500 Gb  Intel Uhd Graphics 620        2.60 GHz  Laptop   \n",
      "279        256 Gb       Intel Hd Graphics        2.40 GHz  Laptop   \n",
      "280        256 Gb       Intel Hd Graphics        2.40 GHz  Laptop   \n",
      "283        512 Gb     Amd Radeon Graphics        2.80 GHz  Laptop   \n",
      "284        512 Gb     Amd Radeon Graphics        2.80 GHz  Laptop   \n",
      "291        512 Gb   Intel Hd Graphics 520        2.60 GHz  Laptop   \n",
      "292        512 Gb   Intel Hd Graphics 520        2.60 GHz  Laptop   \n",
      "640        256 Gb      Intel Uhd Graphics        1.20 GHz  Laptop   \n",
      "646          1 Tb   Intel Hd Graphics 620        1.90 GHz  Laptop   \n",
      "680        256 Gb      Intel Uhd Graphics         3.50GHz  Laptop   \n",
      "694        256 Gb       Intel Hd Graphics        1.50 GHz  Laptop   \n",
      "696        256 Gb  Intel Uhd Graphics 620        1.90 GHz  Laptop   \n",
      "752        256 Gb      Intel Uhd Graphics        1.20 GHz  Laptop   \n",
      "753        256 Gb      Intel Uhd Graphics        1.20 GHz  Laptop   \n",
      "758          1 Tb   Intel Hd Graphics 620        1.90 GHz  Laptop   \n",
      "759          1 Tb   Intel Hd Graphics 620        1.90 GHz  Laptop   \n",
      "792        256 Gb      Intel Uhd Graphics         3.50GHz  Laptop   \n",
      "793        256 Gb      Intel Uhd Graphics         3.50GHz  Laptop   \n",
      "806        256 Gb       Intel Hd Graphics        1.50 GHz  Laptop   \n",
      "807        256 Gb       Intel Hd Graphics        1.50 GHz  Laptop   \n",
      "808        256 Gb  Intel Uhd Graphics 620        1.90 GHz  Laptop   \n",
      "809        256 Gb  Intel Uhd Graphics 620        1.90 GHz  Laptop   \n",
      "2831       512 Gb  Intel Iris Xe Graphics        4.70 GHz  Laptop   \n",
      "2841       128 Gb      Intel Uhd Graphics        3.00 GHz  Laptop   \n",
      "2845       512 Gb  Intel Iris Xe Graphics        2.40 GHz  Laptop   \n",
      "2861       512 Gb  Intel Uhd Graphics 520        2.60 GHz  Laptop   \n",
      "5307       512 Gb  Intel Iris Xe Graphics        4.70 GHz  Laptop   \n",
      "5308       512 Gb  Intel Iris Xe Graphics        4.70 GHz  Laptop   \n",
      "5317       128 Gb      Intel Uhd Graphics        3.00 GHz  Laptop   \n",
      "5318       128 Gb      Intel Uhd Graphics        3.00 GHz  Laptop   \n",
      "5321       512 Gb  Intel Iris Xe Graphics        2.40 GHz  Laptop   \n",
      "5322       512 Gb  Intel Iris Xe Graphics        2.40 GHz  Laptop   \n",
      "5337       512 Gb  Intel Uhd Graphics 520        2.60 GHz  Laptop   \n",
      "5338       512 Gb  Intel Uhd Graphics 520        2.60 GHz  Laptop   \n",
      "\n",
      "     Maximum Resolution                       Model               OS  \\\n",
      "67          1920 X 1080            Hp Elitlebook G5   Windows 11 Pro   \n",
      "75          1920 X 1080   Dell Latitude Rugged 5414   Windows 10 Pro   \n",
      "79          1920 X 1200                         X15  Windows 11 Home   \n",
      "87          2560 X 1440     Lenovo Thinkpad X1 Yoga   Windows 10 Pro   \n",
      "271         1920 X 1080            Hp Elitlebook G5   Windows 11 Pro   \n",
      "272         1920 X 1080            Hp Elitlebook G5   Windows 11 Pro   \n",
      "279         1920 X 1080   Dell Latitude Rugged 5414   Windows 10 Pro   \n",
      "280         1920 X 1080   Dell Latitude Rugged 5414   Windows 10 Pro   \n",
      "283         1920 X 1200                         X15  Windows 11 Home   \n",
      "284         1920 X 1200                         X15  Windows 11 Home   \n",
      "291         2560 X 1440     Lenovo Thinkpad X1 Yoga   Windows 10 Pro   \n",
      "292         2560 X 1440     Lenovo Thinkpad X1 Yoga   Windows 10 Pro   \n",
      "640         1920 X 1080     Lenovo Ideapad 3 15Iau7  Windows 11 Home   \n",
      "646         1920 X 1080          Dell Latitude 7490   Windows 11 Pro   \n",
      "680          1600 X 900                         17B       Windows 11   \n",
      "694         2256 X 1504  Microsoft Surface Laptop 3   Windows 10 Pro   \n",
      "696         1920 X 1080            Elitebook 840 G5   Windows 11 Pro   \n",
      "752         1920 X 1080     Lenovo Ideapad 3 15Iau7  Windows 11 Home   \n",
      "753         1920 X 1080     Lenovo Ideapad 3 15Iau7  Windows 11 Home   \n",
      "758         1920 X 1080          Dell Latitude 7490   Windows 11 Pro   \n",
      "759         1920 X 1080          Dell Latitude 7490   Windows 11 Pro   \n",
      "792          1600 X 900                         17B       Windows 11   \n",
      "793          1600 X 900                         17B       Windows 11   \n",
      "806         2256 X 1504  Microsoft Surface Laptop 3   Windows 10 Pro   \n",
      "807         2256 X 1504  Microsoft Surface Laptop 3   Windows 10 Pro   \n",
      "808         1920 X 1080            Elitebook 840 G5   Windows 11 Pro   \n",
      "809         1920 X 1080            Elitebook 840 G5   Windows 11 Pro   \n",
      "2831        2560 X 1600                         82R       Windows 11   \n",
      "2841        1920 X 1080            Lenovo L14 11Gen   Windows 11 Pro   \n",
      "2845        1920 X 1080        Gateway Gwtn141-10Gr       Windows 10   \n",
      "2861        1920 X 1080          Dell Latitude 5580   Windows 11 Pro   \n",
      "5307        2560 X 1600                         82R       Windows 11   \n",
      "5308        2560 X 1600                         82R       Windows 11   \n",
      "5317        1920 X 1080            Lenovo L14 11Gen   Windows 11 Pro   \n",
      "5318        1920 X 1080            Lenovo L14 11Gen   Windows 11 Pro   \n",
      "5321        1920 X 1080        Gateway Gwtn141-10Gr       Windows 10   \n",
      "5322        1920 X 1080        Gateway Gwtn141-10Gr       Windows 10   \n",
      "5337        1920 X 1080          Dell Latitude 5580   Windows 11 Pro   \n",
      "5338        1920 X 1080          Dell Latitude 5580   Windows 11 Pro   \n",
      "\n",
      "     Hard Drive Capacity Storage Type  Condition               Price  \n",
      "67             500.00 Gb          SSD       Good            $289.99   \n",
      "75             256.00 Gb          SSD        New            $200.00   \n",
      "79              12.00 Gb          SSD    Damaged            $225.00   \n",
      "87             512.00 Gb          SSD        New            $179.99   \n",
      "271            500.00 Gb          SSD       Good            $289.99   \n",
      "272            500.00 Gb          SSD       Good            $289.99   \n",
      "279            256.00 Gb          SSD        New            $200.00   \n",
      "280            256.00 Gb          SSD        New            $200.00   \n",
      "283             12.00 Gb          SSD    Damaged            $225.00   \n",
      "284             12.00 Gb          SSD    Damaged            $225.00   \n",
      "291            512.00 Gb          SSD        New            $179.99   \n",
      "292            512.00 Gb          SSD        New            $179.99   \n",
      "640              8.00 Gb          SSD  Excellent  $192.00 To $203.05  \n",
      "646              1.00 Tb          SSD  Excellent            $369.99   \n",
      "680            256.00 Gb          SSD  Excellent            $444.18   \n",
      "694            256.00 Gb          SSD        New            $259.84   \n",
      "696            256.00 Gb          SSD        New            $172.00   \n",
      "752              8.00 Gb          SSD  Excellent  $192.00 To $203.05  \n",
      "753              8.00 Gb          SSD  Excellent  $192.00 To $203.05  \n",
      "758              1.00 Tb          SSD  Excellent            $369.99   \n",
      "759              1.00 Tb          SSD  Excellent            $369.99   \n",
      "792            256.00 Gb          SSD  Excellent            $444.18   \n",
      "793            256.00 Gb          SSD  Excellent            $444.18   \n",
      "806            256.00 Gb          SSD        New            $259.84   \n",
      "807            256.00 Gb          SSD        New            $259.84   \n",
      "808            256.00 Gb          SSD        New            $172.00   \n",
      "809            256.00 Gb          SSD        New            $172.00   \n",
      "2831           512.00 Gb          SSD  Excellent            $616.40   \n",
      "2841           128.00 Gb          SSD        New            $249.00   \n",
      "2845           512.00 Gb          SSD        New            $349.99   \n",
      "2861           512.00 Gb          SSD  Excellent            $329.99   \n",
      "5307           512.00 Gb          SSD  Excellent            $616.40   \n",
      "5308           512.00 Gb          SSD  Excellent            $616.40   \n",
      "5317           128.00 Gb          SSD        New            $249.00   \n",
      "5318           128.00 Gb          SSD        New            $249.00   \n",
      "5321           512.00 Gb          SSD        New            $349.99   \n",
      "5322           512.00 Gb          SSD        New            $349.99   \n",
      "5337           512.00 Gb          SSD  Excellent            $329.99   \n",
      "5338           512.00 Gb          SSD  Excellent            $329.99   \n"
     ]
    }
   ],
   "source": [
    "print(f\"Total duplicates: {ebay_data_sample.duplicated().sum()}\")\n",
    "\n",
    "print(\"Duplicate rows:\")\n",
    "print(ebay_data_sample[ebay_data_sample.duplicated()])"
   ]
  },
  {
   "cell_type": "code",
   "execution_count": 202,
   "metadata": {},
   "outputs": [
    {
     "name": "stdout",
     "output_type": "stream",
     "text": [
      "      Item Number      Brand                Processor Screen Size Ram Size  \\\n",
      "67    85264981066         Hp   Intel Core I5 8Th Gen.       14 In    32 Gb   \n",
      "75    85264981070       Dell   Intel Core I5 6Th Gen.       14 In     8 Gb   \n",
      "79    85264981072       Sgin            Intel Celeron     15.6 In    12 Gb   \n",
      "87    85264981076     Lenovo   Intel Core I7 6Th Gen.     14.1In.    16 Gb   \n",
      "271   85264981066         Hp   Intel Core I5 8Th Gen.       14 In    32 Gb   \n",
      "272   85264981066         Hp   Intel Core I5 8Th Gen.       14 In    32 Gb   \n",
      "279   85264981070       Dell   Intel Core I5 6Th Gen.       14 In     8 Gb   \n",
      "280   85264981070       Dell   Intel Core I5 6Th Gen.       14 In     8 Gb   \n",
      "283   85264981072       Sgin            Intel Celeron     15.6 In    12 Gb   \n",
      "284   85264981072       Sgin            Intel Celeron     15.6 In    12 Gb   \n",
      "291   85264981076     Lenovo   Intel Core I7 6Th Gen.     14.1In.    16 Gb   \n",
      "292   85264981076     Lenovo   Intel Core I7 6Th Gen.     14.1In.    16 Gb   \n",
      "640   85264981577     Lenovo  Intel Core I3 12Th Gen.     15.6 In     8 Gb   \n",
      "646   85264981580       Dell   Intel Core I7 8Th Gen.       14 In    32 Gb   \n",
      "680   85264981597         Hp            Intel Pentium     17.3 In    12 Gb   \n",
      "694   85264981604  Microsoft  Intel Core I5 10Th Gen.     13.5 In     8 Gb   \n",
      "696   85264981605         Hp   Intel Core I7 8Th Gen.       14 In     8 Gb   \n",
      "752   85264981577     Lenovo  Intel Core I3 12Th Gen.     15.6 In     8 Gb   \n",
      "753   85264981577     Lenovo  Intel Core I3 12Th Gen.     15.6 In     8 Gb   \n",
      "758   85264981580       Dell   Intel Core I7 8Th Gen.       14 In    32 Gb   \n",
      "759   85264981580       Dell   Intel Core I7 8Th Gen.       14 In    32 Gb   \n",
      "792   85264981597         Hp            Intel Pentium     17.3 In    12 Gb   \n",
      "793   85264981597         Hp            Intel Pentium     17.3 In    12 Gb   \n",
      "806   85264981604  Microsoft  Intel Core I5 10Th Gen.     13.5 In     8 Gb   \n",
      "807   85264981604  Microsoft  Intel Core I5 10Th Gen.     13.5 In     8 Gb   \n",
      "808   85264981605         Hp   Intel Core I7 8Th Gen.       14 In     8 Gb   \n",
      "809   85264981605         Hp   Intel Core I7 8Th Gen.       14 In     8 Gb   \n",
      "2831  85264983698     Lenovo  Intel Core I7 12Th Gen.     16.0 In    16 Gb   \n",
      "2841  85264983703     Lenovo     11 Gen Intel Core I3       14 In     8 Gb   \n",
      "2845  85264983705    Gateway  Intel Core I5 11Th Gen.     14.1 In    16 Gb   \n",
      "2861  85264983713       Dell   Intel Core I7 8Th Gen.     15.6 In   512 Gb   \n",
      "5307  85264983698     Lenovo  Intel Core I7 12Th Gen.     16.0 In    16 Gb   \n",
      "5308  85264983698     Lenovo  Intel Core I7 12Th Gen.     16.0 In    16 Gb   \n",
      "5317  85264983703     Lenovo     11 Gen Intel Core I3       14 In     8 Gb   \n",
      "5318  85264983703     Lenovo     11 Gen Intel Core I3       14 In     8 Gb   \n",
      "5321  85264983705    Gateway  Intel Core I5 11Th Gen.     14.1 In    16 Gb   \n",
      "5322  85264983705    Gateway  Intel Core I5 11Th Gen.     14.1 In    16 Gb   \n",
      "5337  85264983713       Dell   Intel Core I7 8Th Gen.     15.6 In   512 Gb   \n",
      "5338  85264983713       Dell   Intel Core I7 8Th Gen.     15.6 In   512 Gb   \n",
      "\n",
      "     SSD Capacity                     GPU Processor Speed    Type  \\\n",
      "67         500 Gb  Intel Uhd Graphics 620        2.60 GHz  Laptop   \n",
      "75         256 Gb       Intel Hd Graphics        2.40 GHz  Laptop   \n",
      "79         512 Gb     Amd Radeon Graphics        2.80 GHz  Laptop   \n",
      "87         512 Gb   Intel Hd Graphics 520        2.60 GHz  Laptop   \n",
      "271        500 Gb  Intel Uhd Graphics 620        2.60 GHz  Laptop   \n",
      "272        500 Gb  Intel Uhd Graphics 620        2.60 GHz  Laptop   \n",
      "279        256 Gb       Intel Hd Graphics        2.40 GHz  Laptop   \n",
      "280        256 Gb       Intel Hd Graphics        2.40 GHz  Laptop   \n",
      "283        512 Gb     Amd Radeon Graphics        2.80 GHz  Laptop   \n",
      "284        512 Gb     Amd Radeon Graphics        2.80 GHz  Laptop   \n",
      "291        512 Gb   Intel Hd Graphics 520        2.60 GHz  Laptop   \n",
      "292        512 Gb   Intel Hd Graphics 520        2.60 GHz  Laptop   \n",
      "640        256 Gb      Intel Uhd Graphics        1.20 GHz  Laptop   \n",
      "646          1 Tb   Intel Hd Graphics 620        1.90 GHz  Laptop   \n",
      "680        256 Gb      Intel Uhd Graphics         3.50GHz  Laptop   \n",
      "694        256 Gb       Intel Hd Graphics        1.50 GHz  Laptop   \n",
      "696        256 Gb  Intel Uhd Graphics 620        1.90 GHz  Laptop   \n",
      "752        256 Gb      Intel Uhd Graphics        1.20 GHz  Laptop   \n",
      "753        256 Gb      Intel Uhd Graphics        1.20 GHz  Laptop   \n",
      "758          1 Tb   Intel Hd Graphics 620        1.90 GHz  Laptop   \n",
      "759          1 Tb   Intel Hd Graphics 620        1.90 GHz  Laptop   \n",
      "792        256 Gb      Intel Uhd Graphics         3.50GHz  Laptop   \n",
      "793        256 Gb      Intel Uhd Graphics         3.50GHz  Laptop   \n",
      "806        256 Gb       Intel Hd Graphics        1.50 GHz  Laptop   \n",
      "807        256 Gb       Intel Hd Graphics        1.50 GHz  Laptop   \n",
      "808        256 Gb  Intel Uhd Graphics 620        1.90 GHz  Laptop   \n",
      "809        256 Gb  Intel Uhd Graphics 620        1.90 GHz  Laptop   \n",
      "2831       512 Gb  Intel Iris Xe Graphics        4.70 GHz  Laptop   \n",
      "2841       128 Gb      Intel Uhd Graphics        3.00 GHz  Laptop   \n",
      "2845       512 Gb  Intel Iris Xe Graphics        2.40 GHz  Laptop   \n",
      "2861       512 Gb  Intel Uhd Graphics 520        2.60 GHz  Laptop   \n",
      "5307       512 Gb  Intel Iris Xe Graphics        4.70 GHz  Laptop   \n",
      "5308       512 Gb  Intel Iris Xe Graphics        4.70 GHz  Laptop   \n",
      "5317       128 Gb      Intel Uhd Graphics        3.00 GHz  Laptop   \n",
      "5318       128 Gb      Intel Uhd Graphics        3.00 GHz  Laptop   \n",
      "5321       512 Gb  Intel Iris Xe Graphics        2.40 GHz  Laptop   \n",
      "5322       512 Gb  Intel Iris Xe Graphics        2.40 GHz  Laptop   \n",
      "5337       512 Gb  Intel Uhd Graphics 520        2.60 GHz  Laptop   \n",
      "5338       512 Gb  Intel Uhd Graphics 520        2.60 GHz  Laptop   \n",
      "\n",
      "     Maximum Resolution                       Model               OS  \\\n",
      "67          1920 X 1080            Hp Elitlebook G5   Windows 11 Pro   \n",
      "75          1920 X 1080   Dell Latitude Rugged 5414   Windows 10 Pro   \n",
      "79          1920 X 1200                         X15  Windows 11 Home   \n",
      "87          2560 X 1440     Lenovo Thinkpad X1 Yoga   Windows 10 Pro   \n",
      "271         1920 X 1080            Hp Elitlebook G5   Windows 11 Pro   \n",
      "272         1920 X 1080            Hp Elitlebook G5   Windows 11 Pro   \n",
      "279         1920 X 1080   Dell Latitude Rugged 5414   Windows 10 Pro   \n",
      "280         1920 X 1080   Dell Latitude Rugged 5414   Windows 10 Pro   \n",
      "283         1920 X 1200                         X15  Windows 11 Home   \n",
      "284         1920 X 1200                         X15  Windows 11 Home   \n",
      "291         2560 X 1440     Lenovo Thinkpad X1 Yoga   Windows 10 Pro   \n",
      "292         2560 X 1440     Lenovo Thinkpad X1 Yoga   Windows 10 Pro   \n",
      "640         1920 X 1080     Lenovo Ideapad 3 15Iau7  Windows 11 Home   \n",
      "646         1920 X 1080          Dell Latitude 7490   Windows 11 Pro   \n",
      "680          1600 X 900                         17B       Windows 11   \n",
      "694         2256 X 1504  Microsoft Surface Laptop 3   Windows 10 Pro   \n",
      "696         1920 X 1080            Elitebook 840 G5   Windows 11 Pro   \n",
      "752         1920 X 1080     Lenovo Ideapad 3 15Iau7  Windows 11 Home   \n",
      "753         1920 X 1080     Lenovo Ideapad 3 15Iau7  Windows 11 Home   \n",
      "758         1920 X 1080          Dell Latitude 7490   Windows 11 Pro   \n",
      "759         1920 X 1080          Dell Latitude 7490   Windows 11 Pro   \n",
      "792          1600 X 900                         17B       Windows 11   \n",
      "793          1600 X 900                         17B       Windows 11   \n",
      "806         2256 X 1504  Microsoft Surface Laptop 3   Windows 10 Pro   \n",
      "807         2256 X 1504  Microsoft Surface Laptop 3   Windows 10 Pro   \n",
      "808         1920 X 1080            Elitebook 840 G5   Windows 11 Pro   \n",
      "809         1920 X 1080            Elitebook 840 G5   Windows 11 Pro   \n",
      "2831        2560 X 1600                         82R       Windows 11   \n",
      "2841        1920 X 1080            Lenovo L14 11Gen   Windows 11 Pro   \n",
      "2845        1920 X 1080        Gateway Gwtn141-10Gr       Windows 10   \n",
      "2861        1920 X 1080          Dell Latitude 5580   Windows 11 Pro   \n",
      "5307        2560 X 1600                         82R       Windows 11   \n",
      "5308        2560 X 1600                         82R       Windows 11   \n",
      "5317        1920 X 1080            Lenovo L14 11Gen   Windows 11 Pro   \n",
      "5318        1920 X 1080            Lenovo L14 11Gen   Windows 11 Pro   \n",
      "5321        1920 X 1080        Gateway Gwtn141-10Gr       Windows 10   \n",
      "5322        1920 X 1080        Gateway Gwtn141-10Gr       Windows 10   \n",
      "5337        1920 X 1080          Dell Latitude 5580   Windows 11 Pro   \n",
      "5338        1920 X 1080          Dell Latitude 5580   Windows 11 Pro   \n",
      "\n",
      "     Hard Drive Capacity Storage Type  Condition               Price  \n",
      "67             500.00 Gb          SSD       Good            $289.99   \n",
      "75             256.00 Gb          SSD        New            $200.00   \n",
      "79              12.00 Gb          SSD    Damaged            $225.00   \n",
      "87             512.00 Gb          SSD        New            $179.99   \n",
      "271            500.00 Gb          SSD       Good            $289.99   \n",
      "272            500.00 Gb          SSD       Good            $289.99   \n",
      "279            256.00 Gb          SSD        New            $200.00   \n",
      "280            256.00 Gb          SSD        New            $200.00   \n",
      "283             12.00 Gb          SSD    Damaged            $225.00   \n",
      "284             12.00 Gb          SSD    Damaged            $225.00   \n",
      "291            512.00 Gb          SSD        New            $179.99   \n",
      "292            512.00 Gb          SSD        New            $179.99   \n",
      "640              8.00 Gb          SSD  Excellent  $192.00 To $203.05  \n",
      "646              1.00 Tb          SSD  Excellent            $369.99   \n",
      "680            256.00 Gb          SSD  Excellent            $444.18   \n",
      "694            256.00 Gb          SSD        New            $259.84   \n",
      "696            256.00 Gb          SSD        New            $172.00   \n",
      "752              8.00 Gb          SSD  Excellent  $192.00 To $203.05  \n",
      "753              8.00 Gb          SSD  Excellent  $192.00 To $203.05  \n",
      "758              1.00 Tb          SSD  Excellent            $369.99   \n",
      "759              1.00 Tb          SSD  Excellent            $369.99   \n",
      "792            256.00 Gb          SSD  Excellent            $444.18   \n",
      "793            256.00 Gb          SSD  Excellent            $444.18   \n",
      "806            256.00 Gb          SSD        New            $259.84   \n",
      "807            256.00 Gb          SSD        New            $259.84   \n",
      "808            256.00 Gb          SSD        New            $172.00   \n",
      "809            256.00 Gb          SSD        New            $172.00   \n",
      "2831           512.00 Gb          SSD  Excellent            $616.40   \n",
      "2841           128.00 Gb          SSD        New            $249.00   \n",
      "2845           512.00 Gb          SSD        New            $349.99   \n",
      "2861           512.00 Gb          SSD  Excellent            $329.99   \n",
      "5307           512.00 Gb          SSD  Excellent            $616.40   \n",
      "5308           512.00 Gb          SSD  Excellent            $616.40   \n",
      "5317           128.00 Gb          SSD        New            $249.00   \n",
      "5318           128.00 Gb          SSD        New            $249.00   \n",
      "5321           512.00 Gb          SSD        New            $349.99   \n",
      "5322           512.00 Gb          SSD        New            $349.99   \n",
      "5337           512.00 Gb          SSD  Excellent            $329.99   \n",
      "5338           512.00 Gb          SSD  Excellent            $329.99   \n"
     ]
    }
   ],
   "source": [
    "duplicate_rows = ebay_data_sample[ebay_data_sample.duplicated()]\n",
    "print(duplicate_rows)"
   ]
  },
  {
   "cell_type": "markdown",
   "metadata": {},
   "source": [
    "Checking the Number of duplicate rows before dropping in order to see how many duplicated row there are"
   ]
  },
  {
   "cell_type": "code",
   "execution_count": 206,
   "metadata": {},
   "outputs": [
    {
     "name": "stdout",
     "output_type": "stream",
     "text": [
      "Number of duplicate rows before dropping: 39\n"
     ]
    }
   ],
   "source": [
    "print(f\"Number of duplicate rows before dropping: {ebay_data_sample.duplicated().sum()}\")"
   ]
  },
  {
   "cell_type": "markdown",
   "metadata": {},
   "source": [
    "Dropping the duplicated rows to futher clean the data"
   ]
  },
  {
   "cell_type": "code",
   "execution_count": 207,
   "metadata": {},
   "outputs": [],
   "source": [
    "ebay_data_sample = ebay_data_sample.drop_duplicates()"
   ]
  },
  {
   "cell_type": "markdown",
   "metadata": {},
   "source": [
    "Checking to make sure that I dropped the duplicated rows correctly "
   ]
  },
  {
   "cell_type": "code",
   "execution_count": 208,
   "metadata": {},
   "outputs": [
    {
     "name": "stdout",
     "output_type": "stream",
     "text": [
      "Number of duplicate rows after dropping: 0\n"
     ]
    }
   ],
   "source": [
    "print(f\"Number of duplicate rows after dropping: {ebay_data_sample.duplicated().sum()}\")"
   ]
  },
  {
   "cell_type": "markdown",
   "metadata": {},
   "source": [
    "Create a new variable with all the stored information and cleaned Data "
   ]
  },
  {
   "cell_type": "code",
   "execution_count": 204,
   "metadata": {},
   "outputs": [],
   "source": [
    "ebay_data_clean = ebay_data_sample"
   ]
  },
  {
   "cell_type": "markdown",
   "metadata": {},
   "source": [
    "with the Clean data Create a CSV file"
   ]
  },
  {
   "cell_type": "code",
   "execution_count": null,
   "metadata": {},
   "outputs": [],
   "source": [
    "ebay_data_clean.to_csv('Cleaned Ebay Data')"
   ]
  }
 ],
 "metadata": {
  "kernelspec": {
   "display_name": "base",
   "language": "python",
   "name": "python3"
  },
  "language_info": {
   "codemirror_mode": {
    "name": "ipython",
    "version": 3
   },
   "file_extension": ".py",
   "mimetype": "text/x-python",
   "name": "python",
   "nbconvert_exporter": "python",
   "pygments_lexer": "ipython3",
   "version": "3.12.4"
  }
 },
 "nbformat": 4,
 "nbformat_minor": 2
}
